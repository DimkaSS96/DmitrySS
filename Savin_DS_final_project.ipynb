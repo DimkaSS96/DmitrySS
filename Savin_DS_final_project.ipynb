{
 "cells": [
  {
   "cell_type": "code",
   "execution_count": 99,
   "metadata": {},
   "outputs": [],
   "source": [
    "#Импортируем необходимые библиотеки для проекта\n",
    "import pandas as pd\n",
    "%matplotlib inline\n",
    "import matplotlib.pyplot as plt\n",
    "import seaborn as sns\n",
    "import plotly.express as px\n",
    "from datetime import timedelta\n",
    "import numpy as np\n",
    "import scipy.stats as ss\n",
    "import pingouin as pg\n",
    "import seaborn as sns\n",
    "import plotly.express as px\n",
    "import statsmodels.api as sm\n",
    "import pandas as pd \n",
    "import requests \n",
    "from urllib.parse import urlencode \n",
    "from scipy.stats import bootstrap\n",
    "from scipy import stats\n"
   ]
  },
  {
   "cell_type": "markdown",
   "metadata": {},
   "source": [
    "**1.Предварительный анализ данных**\n"
   ]
  },
  {
   "cell_type": "code",
   "execution_count": 5,
   "metadata": {},
   "outputs": [
    {
     "data": {
      "text/html": [
       "<div>\n",
       "<style scoped>\n",
       "    .dataframe tbody tr th:only-of-type {\n",
       "        vertical-align: middle;\n",
       "    }\n",
       "\n",
       "    .dataframe tbody tr th {\n",
       "        vertical-align: top;\n",
       "    }\n",
       "\n",
       "    .dataframe thead th {\n",
       "        text-align: right;\n",
       "    }\n",
       "</style>\n",
       "<table border=\"1\" class=\"dataframe\">\n",
       "  <thead>\n",
       "    <tr style=\"text-align: right;\">\n",
       "      <th></th>\n",
       "      <th>id</th>\n",
       "      <th>grp</th>\n",
       "    </tr>\n",
       "  </thead>\n",
       "  <tbody>\n",
       "    <tr>\n",
       "      <th>0</th>\n",
       "      <td>1489</td>\n",
       "      <td>B</td>\n",
       "    </tr>\n",
       "    <tr>\n",
       "      <th>1</th>\n",
       "      <td>1627</td>\n",
       "      <td>A</td>\n",
       "    </tr>\n",
       "    <tr>\n",
       "      <th>2</th>\n",
       "      <td>1768</td>\n",
       "      <td>B</td>\n",
       "    </tr>\n",
       "  </tbody>\n",
       "</table>\n",
       "</div>"
      ],
      "text/plain": [
       "     id grp\n",
       "0  1489   B\n",
       "1  1627   A\n",
       "2  1768   B"
      ]
     },
     "execution_count": 5,
     "metadata": {},
     "output_type": "execute_result"
    }
   ],
   "source": [
    "#Используем api для подгрузки файлов\n",
    "#Вводим ссылку на публичный ключ\n",
    "groups_public_key = 'https://disk.yandex.ru/d/UhyYx41rTt3clQ'\n",
    "groups_add_public_key = 'https://disk.yandex.ru/d/5Kxrz02m3IBUwQ'\n",
    "active_studs_public_key = 'https://disk.yandex.ru/d/Tbs44Bm6H_FwFQ'\n",
    "checks_public_key = 'https://disk.yandex.ru/d/pH1q-VqcxXjsVA'\n",
    "\n",
    "#Создаем функцию для подгрузки датафрейма по ключу\n",
    "def get_yandex_csv(public_key, sep):\n",
    "    base_url = 'https://cloud-api.yandex.net/v1/disk/public/resources/download?'\n",
    "    final_url = base_url + urlencode(dict(public_key=public_key))\n",
    "    response = requests.get(final_url)\n",
    "    download_url = response.json()['href']\n",
    "    download_response = requests.get(download_url)\n",
    "    return pd.read_csv(download_url, sep=sep)\n"
   ]
  },
  {
   "cell_type": "code",
   "execution_count": 61,
   "metadata": {},
   "outputs": [],
   "source": [
    "groups = get_yandex_csv(groups_public_key, ';') #Пользователь - принадлежность к группе\n",
    "group_add = get_yandex_csv(groups_add_public_key, ',') #Доп файл по связи юзер-группа, спустя 2 дня после начала эксперимента\n",
    "active_studs = get_yandex_csv(active_studs_public_key, ';') #Пользователи зашли на платформу в дни проведения эксперимента\n",
    "checks = get_yandex_csv(checks_public_key, ';') #Оплата пользователей в дни проведения эксперимента\n"
   ]
  },
  {
   "cell_type": "markdown",
   "metadata": {},
   "source": [
    "*Осуществим необходимые проверки датасэтов*"
   ]
  },
  {
   "cell_type": "markdown",
   "metadata": {},
   "source": [
    "1.1. Проверим типы параметров в сэтах"
   ]
  },
  {
   "cell_type": "code",
   "execution_count": 40,
   "metadata": {},
   "outputs": [
    {
     "data": {
      "text/plain": [
       "id      int64\n",
       "grp    object\n",
       "dtype: object"
      ]
     },
     "execution_count": 40,
     "metadata": {},
     "output_type": "execute_result"
    }
   ],
   "source": [
    "groups.dtypes"
   ]
  },
  {
   "cell_type": "code",
   "execution_count": 41,
   "metadata": {},
   "outputs": [
    {
     "data": {
      "text/plain": [
       "id,grp    object\n",
       "dtype: object"
      ]
     },
     "execution_count": 41,
     "metadata": {},
     "output_type": "execute_result"
    }
   ],
   "source": [
    "group_add.dtypes"
   ]
  },
  {
   "cell_type": "code",
   "execution_count": 42,
   "metadata": {},
   "outputs": [
    {
     "data": {
      "text/plain": [
       "student_id    int64\n",
       "dtype: object"
      ]
     },
     "execution_count": 42,
     "metadata": {},
     "output_type": "execute_result"
    }
   ],
   "source": [
    "active_studs.dtypes"
   ]
  },
  {
   "cell_type": "code",
   "execution_count": 43,
   "metadata": {},
   "outputs": [
    {
     "data": {
      "text/plain": [
       "student_id      int64\n",
       "rev           float64\n",
       "dtype: object"
      ]
     },
     "execution_count": 43,
     "metadata": {},
     "output_type": "execute_result"
    }
   ],
   "source": [
    "checks.dtypes"
   ]
  },
  {
   "cell_type": "markdown",
   "metadata": {},
   "source": [
    "Типы параметров соответствуют ожидаемому поведению:\n",
    "- Айдишники типа int, не стринга и не object\n",
    "- Наименоание контрольной группы тип object, можно привести к строковому типу, если будет необходимо, но для строк нормальный тип данных\n",
    "- Оплата в типе float, что соответствует оплате с учетом копеек или центов\n",
    "\n",
    "\n",
    "Далее проверим пустые значения. В группах с пользователями нежелательно иметь незаполненные значения группы, т.к. таких юзеров придется \"выбросить\" из анализа, поскольку непонятно будет, к какой группе они относятся. Также желательно проверить, что в сведениях об оплате нет отрицательных чисел"
   ]
  },
  {
   "cell_type": "code",
   "execution_count": 44,
   "metadata": {},
   "outputs": [
    {
     "data": {
      "text/plain": [
       "id     0\n",
       "grp    0\n",
       "dtype: int64"
      ]
     },
     "execution_count": 44,
     "metadata": {},
     "output_type": "execute_result"
    }
   ],
   "source": [
    "groups.isna().sum()"
   ]
  },
  {
   "cell_type": "code",
   "execution_count": 45,
   "metadata": {},
   "outputs": [
    {
     "data": {
      "text/plain": [
       "id,grp    0\n",
       "dtype: int64"
      ]
     },
     "execution_count": 45,
     "metadata": {},
     "output_type": "execute_result"
    }
   ],
   "source": [
    "group_add.isna().sum()"
   ]
  },
  {
   "cell_type": "code",
   "execution_count": 46,
   "metadata": {},
   "outputs": [
    {
     "data": {
      "text/plain": [
       "student_id    0\n",
       "dtype: int64"
      ]
     },
     "execution_count": 46,
     "metadata": {},
     "output_type": "execute_result"
    }
   ],
   "source": [
    "active_studs.isna().sum()"
   ]
  },
  {
   "cell_type": "code",
   "execution_count": 47,
   "metadata": {},
   "outputs": [
    {
     "data": {
      "text/plain": [
       "student_id    0\n",
       "rev           0\n",
       "dtype: int64"
      ]
     },
     "execution_count": 47,
     "metadata": {},
     "output_type": "execute_result"
    }
   ],
   "source": [
    "checks.isna().sum()"
   ]
  },
  {
   "cell_type": "code",
   "execution_count": 48,
   "metadata": {},
   "outputs": [
    {
     "data": {
      "text/html": [
       "<div>\n",
       "<style scoped>\n",
       "    .dataframe tbody tr th:only-of-type {\n",
       "        vertical-align: middle;\n",
       "    }\n",
       "\n",
       "    .dataframe tbody tr th {\n",
       "        vertical-align: top;\n",
       "    }\n",
       "\n",
       "    .dataframe thead th {\n",
       "        text-align: right;\n",
       "    }\n",
       "</style>\n",
       "<table border=\"1\" class=\"dataframe\">\n",
       "  <thead>\n",
       "    <tr style=\"text-align: right;\">\n",
       "      <th></th>\n",
       "      <th>student_id</th>\n",
       "      <th>rev</th>\n",
       "    </tr>\n",
       "  </thead>\n",
       "  <tbody>\n",
       "  </tbody>\n",
       "</table>\n",
       "</div>"
      ],
      "text/plain": [
       "Empty DataFrame\n",
       "Columns: [student_id, rev]\n",
       "Index: []"
      ]
     },
     "execution_count": 48,
     "metadata": {},
     "output_type": "execute_result"
    }
   ],
   "source": [
    "checks.query(\"rev <= 0\")"
   ]
  },
  {
   "cell_type": "code",
   "execution_count": 49,
   "metadata": {},
   "outputs": [],
   "source": [
    "#Дополнительно проверим дубли"
   ]
  },
  {
   "cell_type": "code",
   "execution_count": 50,
   "metadata": {},
   "outputs": [
    {
     "data": {
      "text/plain": [
       "0"
      ]
     },
     "execution_count": 50,
     "metadata": {},
     "output_type": "execute_result"
    }
   ],
   "source": [
    "groups.id.duplicated().sum() \n",
    "#Проверим именно айди студента, т.к. если имеются две и более записи по 1 студенту, это повод задуматься"
   ]
  },
  {
   "cell_type": "code",
   "execution_count": 56,
   "metadata": {},
   "outputs": [
    {
     "data": {
      "text/plain": [
       "0"
      ]
     },
     "execution_count": 56,
     "metadata": {},
     "output_type": "execute_result"
    }
   ],
   "source": [
    "active_studs.duplicated().sum()"
   ]
  },
  {
   "cell_type": "code",
   "execution_count": 60,
   "metadata": {},
   "outputs": [
    {
     "data": {
      "text/html": [
       "<div>\n",
       "<style scoped>\n",
       "    .dataframe tbody tr th:only-of-type {\n",
       "        vertical-align: middle;\n",
       "    }\n",
       "\n",
       "    .dataframe tbody tr th {\n",
       "        vertical-align: top;\n",
       "    }\n",
       "\n",
       "    .dataframe thead th {\n",
       "        text-align: right;\n",
       "    }\n",
       "</style>\n",
       "<table border=\"1\" class=\"dataframe\">\n",
       "  <thead>\n",
       "    <tr style=\"text-align: right;\">\n",
       "      <th></th>\n",
       "      <th>id,grp</th>\n",
       "    </tr>\n",
       "  </thead>\n",
       "  <tbody>\n",
       "    <tr>\n",
       "      <th>0</th>\n",
       "      <td>5694584,B</td>\n",
       "    </tr>\n",
       "    <tr>\n",
       "      <th>1</th>\n",
       "      <td>5694830,B</td>\n",
       "    </tr>\n",
       "    <tr>\n",
       "      <th>2</th>\n",
       "      <td>5695057,B</td>\n",
       "    </tr>\n",
       "    <tr>\n",
       "      <th>3</th>\n",
       "      <td>5698872,B</td>\n",
       "    </tr>\n",
       "    <tr>\n",
       "      <th>4</th>\n",
       "      <td>5699067,B</td>\n",
       "    </tr>\n",
       "    <tr>\n",
       "      <th>...</th>\n",
       "      <td>...</td>\n",
       "    </tr>\n",
       "    <tr>\n",
       "      <th>87</th>\n",
       "      <td>200247820,B</td>\n",
       "    </tr>\n",
       "    <tr>\n",
       "      <th>88</th>\n",
       "      <td>201032527,B</td>\n",
       "    </tr>\n",
       "    <tr>\n",
       "      <th>89</th>\n",
       "      <td>201067612,B</td>\n",
       "    </tr>\n",
       "    <tr>\n",
       "      <th>90</th>\n",
       "      <td>201067653,B</td>\n",
       "    </tr>\n",
       "    <tr>\n",
       "      <th>91</th>\n",
       "      <td>201067659,B</td>\n",
       "    </tr>\n",
       "  </tbody>\n",
       "</table>\n",
       "<p>92 rows × 1 columns</p>\n",
       "</div>"
      ],
      "text/plain": [
       "         id,grp\n",
       "0     5694584,B\n",
       "1     5694830,B\n",
       "2     5695057,B\n",
       "3     5698872,B\n",
       "4     5699067,B\n",
       "..          ...\n",
       "87  200247820,B\n",
       "88  201032527,B\n",
       "89  201067612,B\n",
       "90  201067653,B\n",
       "91  201067659,B\n",
       "\n",
       "[92 rows x 1 columns]"
      ]
     },
     "execution_count": 60,
     "metadata": {},
     "output_type": "execute_result"
    }
   ],
   "source": [
    "group_add"
   ]
  },
  {
   "cell_type": "code",
   "execution_count": 62,
   "metadata": {},
   "outputs": [
    {
     "data": {
      "text/plain": [
       "0"
      ]
     },
     "execution_count": 62,
     "metadata": {},
     "output_type": "execute_result"
    }
   ],
   "source": [
    "group_add.id.duplicated().sum() #Аналогично, как и в groups"
   ]
  },
  {
   "cell_type": "code",
   "execution_count": 58,
   "metadata": {},
   "outputs": [
    {
     "data": {
      "text/plain": [
       "0"
      ]
     },
     "execution_count": 58,
     "metadata": {},
     "output_type": "execute_result"
    }
   ],
   "source": [
    "checks.student_id.duplicated().sum() #Чисто в теории 1 пользователь мог бы сделать несколько оплат в день"
   ]
  },
  {
   "cell_type": "markdown",
   "metadata": {},
   "source": [
    "Проверим на наличие противоречивых данных в датасетах. Например, есть ли у нас пользователи, которые оплатили, но не являются активными или нет ли такого, что пользователь у нас отнесен к двум группам одновременно."
   ]
  },
  {
   "cell_type": "code",
   "execution_count": 59,
   "metadata": {},
   "outputs": [
    {
     "data": {
      "text/plain": [
       "id     0\n",
       "grp    0\n",
       "dtype: int64"
      ]
     },
     "execution_count": 59,
     "metadata": {},
     "output_type": "execute_result"
    }
   ],
   "source": [
    "groups.id.nunique() - groups.count()"
   ]
  },
  {
   "cell_type": "markdown",
   "metadata": {},
   "source": [
    "Как видим, у нас количество уникальных записей совпадает с количеством строчек."
   ]
  },
  {
   "cell_type": "code",
   "execution_count": 38,
   "metadata": {},
   "outputs": [
    {
     "data": {
      "text/html": [
       "<div>\n",
       "<style scoped>\n",
       "    .dataframe tbody tr th:only-of-type {\n",
       "        vertical-align: middle;\n",
       "    }\n",
       "\n",
       "    .dataframe tbody tr th {\n",
       "        vertical-align: top;\n",
       "    }\n",
       "\n",
       "    .dataframe thead th {\n",
       "        text-align: right;\n",
       "    }\n",
       "</style>\n",
       "<table border=\"1\" class=\"dataframe\">\n",
       "  <thead>\n",
       "    <tr style=\"text-align: right;\">\n",
       "      <th></th>\n",
       "      <th>student_id</th>\n",
       "      <th>rev</th>\n",
       "    </tr>\n",
       "  </thead>\n",
       "  <tbody>\n",
       "    <tr>\n",
       "      <th>0</th>\n",
       "      <td>1627</td>\n",
       "      <td>990.0000</td>\n",
       "    </tr>\n",
       "    <tr>\n",
       "      <th>1</th>\n",
       "      <td>100300</td>\n",
       "      <td>990.0000</td>\n",
       "    </tr>\n",
       "    <tr>\n",
       "      <th>2</th>\n",
       "      <td>108270</td>\n",
       "      <td>290.0000</td>\n",
       "    </tr>\n",
       "    <tr>\n",
       "      <th>3</th>\n",
       "      <td>264473</td>\n",
       "      <td>1900.0001</td>\n",
       "    </tr>\n",
       "    <tr>\n",
       "      <th>4</th>\n",
       "      <td>274352</td>\n",
       "      <td>690.0000</td>\n",
       "    </tr>\n",
       "    <tr>\n",
       "      <th>...</th>\n",
       "      <td>...</td>\n",
       "      <td>...</td>\n",
       "    </tr>\n",
       "    <tr>\n",
       "      <th>387</th>\n",
       "      <td>5645737</td>\n",
       "      <td>1900.0000</td>\n",
       "    </tr>\n",
       "    <tr>\n",
       "      <th>388</th>\n",
       "      <td>5651566</td>\n",
       "      <td>1900.0000</td>\n",
       "    </tr>\n",
       "    <tr>\n",
       "      <th>389</th>\n",
       "      <td>5662322</td>\n",
       "      <td>1900.0000</td>\n",
       "    </tr>\n",
       "    <tr>\n",
       "      <th>390</th>\n",
       "      <td>5681918</td>\n",
       "      <td>1900.0000</td>\n",
       "    </tr>\n",
       "    <tr>\n",
       "      <th>391</th>\n",
       "      <td>5740903</td>\n",
       "      <td>1900.0000</td>\n",
       "    </tr>\n",
       "  </tbody>\n",
       "</table>\n",
       "<p>392 rows × 2 columns</p>\n",
       "</div>"
      ],
      "text/plain": [
       "     student_id        rev\n",
       "0          1627   990.0000\n",
       "1        100300   990.0000\n",
       "2        108270   290.0000\n",
       "3        264473  1900.0001\n",
       "4        274352   690.0000\n",
       "..          ...        ...\n",
       "387     5645737  1900.0000\n",
       "388     5651566  1900.0000\n",
       "389     5662322  1900.0000\n",
       "390     5681918  1900.0000\n",
       "391     5740903  1900.0000\n",
       "\n",
       "[392 rows x 2 columns]"
      ]
     },
     "execution_count": 38,
     "metadata": {},
     "output_type": "execute_result"
    }
   ],
   "source": [
    "#Проверим на наличие неактивных и оплативших юзеров\n",
    "#Воспользуемся inner-обхединением, чтобы понять, какие студенты\n",
    "# у нас не оплатили\n",
    "df_cheking=checks.merge(active_studs,how='inner', on='student_id')\n",
    "df_cheking"
   ]
  },
  {
   "cell_type": "code",
   "execution_count": 39,
   "metadata": {},
   "outputs": [
    {
     "data": {
      "text/plain": [
       "149"
      ]
     },
     "execution_count": 39,
     "metadata": {},
     "output_type": "execute_result"
    }
   ],
   "source": [
    "541-392"
   ]
  },
  {
   "cell_type": "markdown",
   "metadata": {},
   "source": [
    "Видим, что в изначальном списке оплативших у нас 541 человек, а при объединении отвалилось 149 юзеров, которые неактивные, но оплатили. Их можно не учитывать далее ( *они далее не учитывались, когд мы отобрали только активных пользователей, у которых оплата больше 0* )."
   ]
  },
  {
   "cell_type": "markdown",
   "metadata": {},
   "source": [
    "Как мы видим, пропущенных значений нет ни в одном датасете. Более того, нет отрицательных оплат. По предварительной проверке можно сделать вывод, что данные готовы к дальнейшему анализу"
   ]
  },
  {
   "cell_type": "markdown",
   "metadata": {},
   "source": [
    "# Задание 1"
   ]
  },
  {
   "cell_type": "markdown",
   "metadata": {},
   "source": [
    "**2. ВОПРОСЫ**\n",
    "\n",
    "2.1 На какие метрики вы смотрите в ходе анализа и почему?\n",
    "\n",
    "2.2 Имеются ли различия в показателях и с чем они могут быть связаны?\n",
    "\n",
    "2.3 Являются ли эти различия статистически значимыми?\n",
    "\n",
    "2.4 Стоит ли запускать новую механику на всех пользователей?\n"
   ]
  },
  {
   "cell_type": "markdown",
   "metadata": {},
   "source": [
    "2.1 Поскольку эксперимент подразумевает собой выявление наиболее прибыльного способа оплаты, то можно рассмотреть следующие метрики:\n",
    "\n",
    "- Проверить, вырос ли средний чек по оплате. Возможно, что из-за удобства новой системы пользователи стали приобретать больше товаров или услуг\n",
    "- Проверить волатильность медианного чека\n",
    "\n",
    "Ведь если разница между  среднимим чеками пользователей  групп имеется, то можно сделать определенные выводы об успешности новой механики оплаты. Например, если  в группе А(контроль) средний чек  пользователя оказался значимо ниже, чем в группе В ( целевой), то можно выдвинуть утверждение об успешности новой механики оплаты.\n",
    "\n",
    "Видвигать предположение о соотношении активных и неактивных юзеров здесь не получится, поскольку в условии взяты рандомные дни и пользователи не знали об изменении. Да и целевых действий по отмене тоже не было."
   ]
  },
  {
   "cell_type": "markdown",
   "metadata": {},
   "source": [
    "Чтобы ответить на вопросы 2.2-2.4, необходимо проанализировать данные и рассчитать метрики: средний чек юзера."
   ]
  },
  {
   "cell_type": "markdown",
   "metadata": {},
   "source": [
    "*Выдвинем гипотезы*\n",
    "\n",
    "**H0**: Средний чек пользователя контрольной группы А значимо не отличается от среднего чека целевой группы В"
   ]
  },
  {
   "cell_type": "markdown",
   "metadata": {},
   "source": [
    "Поскольку работа с файлом groups_add предусматривается в 3 задании, для начала проверим наши гипотезы, рассчитав метрики на имеющихся данных так, как будто у нас еще нет данных о пользователях, пришедших спустя два дня. "
   ]
  },
  {
   "cell_type": "code",
   "execution_count": 63,
   "metadata": {},
   "outputs": [
    {
     "data": {
      "text/html": [
       "<div>\n",
       "<style scoped>\n",
       "    .dataframe tbody tr th:only-of-type {\n",
       "        vertical-align: middle;\n",
       "    }\n",
       "\n",
       "    .dataframe tbody tr th {\n",
       "        vertical-align: top;\n",
       "    }\n",
       "\n",
       "    .dataframe thead th {\n",
       "        text-align: right;\n",
       "    }\n",
       "</style>\n",
       "<table border=\"1\" class=\"dataframe\">\n",
       "  <thead>\n",
       "    <tr style=\"text-align: right;\">\n",
       "      <th></th>\n",
       "      <th>id</th>\n",
       "    </tr>\n",
       "  </thead>\n",
       "  <tbody>\n",
       "    <tr>\n",
       "      <th>0</th>\n",
       "      <td>581585</td>\n",
       "    </tr>\n",
       "    <tr>\n",
       "      <th>1</th>\n",
       "      <td>5723133</td>\n",
       "    </tr>\n",
       "    <tr>\n",
       "      <th>2</th>\n",
       "      <td>3276743</td>\n",
       "    </tr>\n",
       "    <tr>\n",
       "      <th>3</th>\n",
       "      <td>4238589</td>\n",
       "    </tr>\n",
       "    <tr>\n",
       "      <th>4</th>\n",
       "      <td>4475369</td>\n",
       "    </tr>\n",
       "    <tr>\n",
       "      <th>...</th>\n",
       "      <td>...</td>\n",
       "    </tr>\n",
       "    <tr>\n",
       "      <th>8336</th>\n",
       "      <td>1794344</td>\n",
       "    </tr>\n",
       "    <tr>\n",
       "      <th>8337</th>\n",
       "      <td>296883</td>\n",
       "    </tr>\n",
       "    <tr>\n",
       "      <th>8338</th>\n",
       "      <td>3598448</td>\n",
       "    </tr>\n",
       "    <tr>\n",
       "      <th>8339</th>\n",
       "      <td>3610547</td>\n",
       "    </tr>\n",
       "    <tr>\n",
       "      <th>8340</th>\n",
       "      <td>205705</td>\n",
       "    </tr>\n",
       "  </tbody>\n",
       "</table>\n",
       "<p>8341 rows × 1 columns</p>\n",
       "</div>"
      ],
      "text/plain": [
       "           id\n",
       "0      581585\n",
       "1     5723133\n",
       "2     3276743\n",
       "3     4238589\n",
       "4     4475369\n",
       "...       ...\n",
       "8336  1794344\n",
       "8337   296883\n",
       "8338  3598448\n",
       "8339  3610547\n",
       "8340   205705\n",
       "\n",
       "[8341 rows x 1 columns]"
      ]
     },
     "execution_count": 63,
     "metadata": {},
     "output_type": "execute_result"
    }
   ],
   "source": [
    "#Для удобства мерджа переименуем столбец \n",
    "active_studs=active_studs.rename(columns={'student_id':'id'})\n",
    "active_studs"
   ]
  },
  {
   "cell_type": "code",
   "execution_count": 64,
   "metadata": {},
   "outputs": [
    {
     "data": {
      "text/html": [
       "<div>\n",
       "<style scoped>\n",
       "    .dataframe tbody tr th:only-of-type {\n",
       "        vertical-align: middle;\n",
       "    }\n",
       "\n",
       "    .dataframe tbody tr th {\n",
       "        vertical-align: top;\n",
       "    }\n",
       "\n",
       "    .dataframe thead th {\n",
       "        text-align: right;\n",
       "    }\n",
       "</style>\n",
       "<table border=\"1\" class=\"dataframe\">\n",
       "  <thead>\n",
       "    <tr style=\"text-align: right;\">\n",
       "      <th></th>\n",
       "      <th>id</th>\n",
       "      <th>grp</th>\n",
       "    </tr>\n",
       "  </thead>\n",
       "  <tbody>\n",
       "    <tr>\n",
       "      <th>0</th>\n",
       "      <td>581585</td>\n",
       "      <td>A</td>\n",
       "    </tr>\n",
       "    <tr>\n",
       "      <th>1</th>\n",
       "      <td>5723133</td>\n",
       "      <td>NaN</td>\n",
       "    </tr>\n",
       "    <tr>\n",
       "      <th>2</th>\n",
       "      <td>3276743</td>\n",
       "      <td>B</td>\n",
       "    </tr>\n",
       "    <tr>\n",
       "      <th>3</th>\n",
       "      <td>4238589</td>\n",
       "      <td>A</td>\n",
       "    </tr>\n",
       "    <tr>\n",
       "      <th>4</th>\n",
       "      <td>4475369</td>\n",
       "      <td>B</td>\n",
       "    </tr>\n",
       "    <tr>\n",
       "      <th>...</th>\n",
       "      <td>...</td>\n",
       "      <td>...</td>\n",
       "    </tr>\n",
       "    <tr>\n",
       "      <th>8336</th>\n",
       "      <td>1794344</td>\n",
       "      <td>B</td>\n",
       "    </tr>\n",
       "    <tr>\n",
       "      <th>8337</th>\n",
       "      <td>296883</td>\n",
       "      <td>B</td>\n",
       "    </tr>\n",
       "    <tr>\n",
       "      <th>8338</th>\n",
       "      <td>3598448</td>\n",
       "      <td>B</td>\n",
       "    </tr>\n",
       "    <tr>\n",
       "      <th>8339</th>\n",
       "      <td>3610547</td>\n",
       "      <td>B</td>\n",
       "    </tr>\n",
       "    <tr>\n",
       "      <th>8340</th>\n",
       "      <td>205705</td>\n",
       "      <td>B</td>\n",
       "    </tr>\n",
       "  </tbody>\n",
       "</table>\n",
       "<p>8341 rows × 2 columns</p>\n",
       "</div>"
      ],
      "text/plain": [
       "           id  grp\n",
       "0      581585    A\n",
       "1     5723133  NaN\n",
       "2     3276743    B\n",
       "3     4238589    A\n",
       "4     4475369    B\n",
       "...       ...  ...\n",
       "8336  1794344    B\n",
       "8337   296883    B\n",
       "8338  3598448    B\n",
       "8339  3610547    B\n",
       "8340   205705    B\n",
       "\n",
       "[8341 rows x 2 columns]"
      ]
     },
     "execution_count": 64,
     "metadata": {},
     "output_type": "execute_result"
    }
   ],
   "source": [
    "#Объединим три датафрейма - groups,active_studs,checks, \n",
    "#Чтобы получить полную информацию о том, какие пользователи участвовали в эксперименте и информацию об сумме их оплат\n",
    "#Это сразу позволит отсеить неактивных пользователей, которые не были на платформе в день эксперимента, но совершили оплату\n",
    "active_grouped_users=active_studs.merge(groups, how='left', on='id')\n",
    "active_grouped_users"
   ]
  },
  {
   "cell_type": "markdown",
   "metadata": {},
   "source": [
    "Проверим, есть ли у нас в выборе пользователи с незаполненной группой, поскольку в файле с активными пользователями могли оказаться те, которые не попали ни в какую группу или из 2го файла\n"
   ]
  },
  {
   "cell_type": "code",
   "execution_count": 65,
   "metadata": {},
   "outputs": [
    {
     "data": {
      "text/plain": [
       "id      0\n",
       "grp    13\n",
       "dtype: int64"
      ]
     },
     "execution_count": 65,
     "metadata": {},
     "output_type": "execute_result"
    }
   ],
   "source": [
    "active_grouped_users.isna().sum()\n",
    "#У нас есть 13 пользователей без группы. \n",
    "#На данный момент их лучше исключить из выборки, поскольку мы не знаем,к какой группе они относятся"
   ]
  },
  {
   "cell_type": "code",
   "execution_count": 66,
   "metadata": {},
   "outputs": [
    {
     "data": {
      "text/html": [
       "<div>\n",
       "<style scoped>\n",
       "    .dataframe tbody tr th:only-of-type {\n",
       "        vertical-align: middle;\n",
       "    }\n",
       "\n",
       "    .dataframe tbody tr th {\n",
       "        vertical-align: top;\n",
       "    }\n",
       "\n",
       "    .dataframe thead th {\n",
       "        text-align: right;\n",
       "    }\n",
       "</style>\n",
       "<table border=\"1\" class=\"dataframe\">\n",
       "  <thead>\n",
       "    <tr style=\"text-align: right;\">\n",
       "      <th></th>\n",
       "      <th>id</th>\n",
       "      <th>grp</th>\n",
       "    </tr>\n",
       "  </thead>\n",
       "  <tbody>\n",
       "    <tr>\n",
       "      <th>0</th>\n",
       "      <td>581585</td>\n",
       "      <td>A</td>\n",
       "    </tr>\n",
       "    <tr>\n",
       "      <th>2</th>\n",
       "      <td>3276743</td>\n",
       "      <td>B</td>\n",
       "    </tr>\n",
       "    <tr>\n",
       "      <th>3</th>\n",
       "      <td>4238589</td>\n",
       "      <td>A</td>\n",
       "    </tr>\n",
       "    <tr>\n",
       "      <th>4</th>\n",
       "      <td>4475369</td>\n",
       "      <td>B</td>\n",
       "    </tr>\n",
       "    <tr>\n",
       "      <th>5</th>\n",
       "      <td>5481015</td>\n",
       "      <td>B</td>\n",
       "    </tr>\n",
       "    <tr>\n",
       "      <th>...</th>\n",
       "      <td>...</td>\n",
       "      <td>...</td>\n",
       "    </tr>\n",
       "    <tr>\n",
       "      <th>8336</th>\n",
       "      <td>1794344</td>\n",
       "      <td>B</td>\n",
       "    </tr>\n",
       "    <tr>\n",
       "      <th>8337</th>\n",
       "      <td>296883</td>\n",
       "      <td>B</td>\n",
       "    </tr>\n",
       "    <tr>\n",
       "      <th>8338</th>\n",
       "      <td>3598448</td>\n",
       "      <td>B</td>\n",
       "    </tr>\n",
       "    <tr>\n",
       "      <th>8339</th>\n",
       "      <td>3610547</td>\n",
       "      <td>B</td>\n",
       "    </tr>\n",
       "    <tr>\n",
       "      <th>8340</th>\n",
       "      <td>205705</td>\n",
       "      <td>B</td>\n",
       "    </tr>\n",
       "  </tbody>\n",
       "</table>\n",
       "<p>8328 rows × 2 columns</p>\n",
       "</div>"
      ],
      "text/plain": [
       "           id grp\n",
       "0      581585   A\n",
       "2     3276743   B\n",
       "3     4238589   A\n",
       "4     4475369   B\n",
       "5     5481015   B\n",
       "...       ...  ..\n",
       "8336  1794344   B\n",
       "8337   296883   B\n",
       "8338  3598448   B\n",
       "8339  3610547   B\n",
       "8340   205705   B\n",
       "\n",
       "[8328 rows x 2 columns]"
      ]
     },
     "execution_count": 66,
     "metadata": {},
     "output_type": "execute_result"
    }
   ],
   "source": [
    "active_grouped_users=active_grouped_users.dropna()\n",
    "active_grouped_users"
   ]
  },
  {
   "cell_type": "markdown",
   "metadata": {},
   "source": [
    "Далее подгрузим данные об оплате по каждому пользователю. Пустоту можно заполнить 0, если не было оплаты. Заполняем 0, поскольку нам нужно понимать успешность нового механизма.\n"
   ]
  },
  {
   "cell_type": "code",
   "execution_count": 67,
   "metadata": {},
   "outputs": [
    {
     "data": {
      "text/html": [
       "<div>\n",
       "<style scoped>\n",
       "    .dataframe tbody tr th:only-of-type {\n",
       "        vertical-align: middle;\n",
       "    }\n",
       "\n",
       "    .dataframe tbody tr th {\n",
       "        vertical-align: top;\n",
       "    }\n",
       "\n",
       "    .dataframe thead th {\n",
       "        text-align: right;\n",
       "    }\n",
       "</style>\n",
       "<table border=\"1\" class=\"dataframe\">\n",
       "  <thead>\n",
       "    <tr style=\"text-align: right;\">\n",
       "      <th></th>\n",
       "      <th>id</th>\n",
       "      <th>grp</th>\n",
       "      <th>rev</th>\n",
       "    </tr>\n",
       "  </thead>\n",
       "  <tbody>\n",
       "    <tr>\n",
       "      <th>0</th>\n",
       "      <td>581585</td>\n",
       "      <td>A</td>\n",
       "      <td>0.0</td>\n",
       "    </tr>\n",
       "    <tr>\n",
       "      <th>1</th>\n",
       "      <td>3276743</td>\n",
       "      <td>B</td>\n",
       "      <td>0.0</td>\n",
       "    </tr>\n",
       "    <tr>\n",
       "      <th>2</th>\n",
       "      <td>4238589</td>\n",
       "      <td>A</td>\n",
       "      <td>0.0</td>\n",
       "    </tr>\n",
       "    <tr>\n",
       "      <th>3</th>\n",
       "      <td>4475369</td>\n",
       "      <td>B</td>\n",
       "      <td>0.0</td>\n",
       "    </tr>\n",
       "    <tr>\n",
       "      <th>4</th>\n",
       "      <td>5481015</td>\n",
       "      <td>B</td>\n",
       "      <td>0.0</td>\n",
       "    </tr>\n",
       "    <tr>\n",
       "      <th>...</th>\n",
       "      <td>...</td>\n",
       "      <td>...</td>\n",
       "      <td>...</td>\n",
       "    </tr>\n",
       "    <tr>\n",
       "      <th>8323</th>\n",
       "      <td>1794344</td>\n",
       "      <td>B</td>\n",
       "      <td>0.0</td>\n",
       "    </tr>\n",
       "    <tr>\n",
       "      <th>8324</th>\n",
       "      <td>296883</td>\n",
       "      <td>B</td>\n",
       "      <td>0.0</td>\n",
       "    </tr>\n",
       "    <tr>\n",
       "      <th>8325</th>\n",
       "      <td>3598448</td>\n",
       "      <td>B</td>\n",
       "      <td>0.0</td>\n",
       "    </tr>\n",
       "    <tr>\n",
       "      <th>8326</th>\n",
       "      <td>3610547</td>\n",
       "      <td>B</td>\n",
       "      <td>290.0</td>\n",
       "    </tr>\n",
       "    <tr>\n",
       "      <th>8327</th>\n",
       "      <td>205705</td>\n",
       "      <td>B</td>\n",
       "      <td>0.0</td>\n",
       "    </tr>\n",
       "  </tbody>\n",
       "</table>\n",
       "<p>8328 rows × 3 columns</p>\n",
       "</div>"
      ],
      "text/plain": [
       "           id grp    rev\n",
       "0      581585   A    0.0\n",
       "1     3276743   B    0.0\n",
       "2     4238589   A    0.0\n",
       "3     4475369   B    0.0\n",
       "4     5481015   B    0.0\n",
       "...       ...  ..    ...\n",
       "8323  1794344   B    0.0\n",
       "8324   296883   B    0.0\n",
       "8325  3598448   B    0.0\n",
       "8326  3610547   B  290.0\n",
       "8327   205705   B    0.0\n",
       "\n",
       "[8328 rows x 3 columns]"
      ]
     },
     "execution_count": 67,
     "metadata": {},
     "output_type": "execute_result"
    }
   ],
   "source": [
    "#Для удобства мерджа переименуем столбец \n",
    "checks=checks.rename(columns={'student_id':'id'})\n",
    "active_grouped_users2=active_grouped_users.merge(checks,how='left', on='id')\n",
    "active_grouped_users2['rev']=active_grouped_users2['rev'].fillna(0) \n",
    "active_grouped_users2"
   ]
  },
  {
   "cell_type": "markdown",
   "metadata": {},
   "source": [
    "Наши данные готовы. Теперь можно разбить по группам контрольная А и целевая Б."
   ]
  },
  {
   "cell_type": "code",
   "execution_count": 68,
   "metadata": {},
   "outputs": [],
   "source": [
    "contr_A=active_grouped_users2.query(\"grp == 'A'\")[['id','rev']]\n",
    "test_B=active_grouped_users2.query(\"grp == 'B'\")[['id','rev']]"
   ]
  },
  {
   "cell_type": "code",
   "execution_count": 69,
   "metadata": {},
   "outputs": [
    {
     "data": {
      "text/plain": [
       "(1535, 2)"
      ]
     },
     "execution_count": 69,
     "metadata": {},
     "output_type": "execute_result"
    }
   ],
   "source": [
    "contr_A.shape"
   ]
  },
  {
   "cell_type": "code",
   "execution_count": 70,
   "metadata": {},
   "outputs": [
    {
     "data": {
      "text/plain": [
       "(6793, 2)"
      ]
     },
     "execution_count": 70,
     "metadata": {},
     "output_type": "execute_result"
    }
   ],
   "source": [
    "test_B.shape"
   ]
  },
  {
   "cell_type": "markdown",
   "metadata": {},
   "source": [
    "Мы видим достаточно колоссальное отличие в количестве активных участников между контрольной и целевой группой. Результаты могут быть неожиданными."
   ]
  },
  {
   "cell_type": "code",
   "execution_count": 71,
   "metadata": {},
   "outputs": [],
   "source": [
    "contr_A_1=groups.query(\"grp == 'A'\")\n",
    "test_B_1=groups.query(\"grp == 'B'\")"
   ]
  },
  {
   "cell_type": "code",
   "execution_count": 72,
   "metadata": {},
   "outputs": [
    {
     "data": {
      "text/plain": [
       "(14671, 2)"
      ]
     },
     "execution_count": 72,
     "metadata": {},
     "output_type": "execute_result"
    }
   ],
   "source": [
    "contr_A_1.shape"
   ]
  },
  {
   "cell_type": "code",
   "execution_count": 73,
   "metadata": {},
   "outputs": [
    {
     "data": {
      "text/plain": [
       "(59813, 2)"
      ]
     },
     "execution_count": 73,
     "metadata": {},
     "output_type": "execute_result"
    }
   ],
   "source": [
    "test_B_1.shape"
   ]
  },
  {
   "cell_type": "markdown",
   "metadata": {},
   "source": [
    "Но и изначально мы видим, что их количество какое-то неравное 14,6 тыс против почти 60 тыс...\n",
    "Отсюда можем вывести еще третью метрику: \n",
    "Соотношение количества пользователей, которые не произвели оплату. Их соотношение может оказаться одинаковым.\n",
    "\n",
    "**H0**: Соотношение количества пользователей,  произведших оплату, в контрольной группе А значимо не отличется от аналогичного в целевой группе В."
   ]
  },
  {
   "cell_type": "markdown",
   "metadata": {},
   "source": [
    "## Гипотеза 1: Изменился ли средний чек "
   ]
  },
  {
   "cell_type": "markdown",
   "metadata": {},
   "source": [
    "### 1. Посмотрим на графики распределений ###"
   ]
  },
  {
   "cell_type": "code",
   "execution_count": 28,
   "metadata": {},
   "outputs": [
    {
     "data": {
      "text/plain": [
       "<matplotlib.axes._subplots.AxesSubplot at 0x7fe5415de358>"
      ]
     },
     "execution_count": 28,
     "metadata": {},
     "output_type": "execute_result"
    },
    {
     "data": {
      "image/png": "[encoded data removed]",
      "text/plain": [
       "<Figure size 432x288 with 1 Axes>"
      ]
     },
     "metadata": {
      "needs_background": "light"
     },
     "output_type": "display_data"
    }
   ],
   "source": [
    "sns.histplot(data=active_grouped_users2, x=\"rev\", hue=\"grp\")"
   ]
  },
  {
   "cell_type": "code",
   "execution_count": 29,
   "metadata": {},
   "outputs": [
    {
     "data": {
      "text/plain": [
       "<matplotlib.axes._subplots.AxesSubplot at 0x7fe53cfaa208>"
      ]
     },
     "execution_count": 29,
     "metadata": {},
     "output_type": "execute_result"
    },
    {
     "data": {
      "image/png": "[encoded data removed]",
      "text/plain": [
       "<Figure size 432x288 with 1 Axes>"
      ]
     },
     "metadata": {
      "needs_background": "light"
     },
     "output_type": "display_data"
    }
   ],
   "source": [
    "sns.histplot(data=contr_A, x=\"rev\")"
   ]
  },
  {
   "cell_type": "code",
   "execution_count": 30,
   "metadata": {},
   "outputs": [
    {
     "data": {
      "text/plain": [
       "<matplotlib.axes._subplots.AxesSubplot at 0x7fe53cec8710>"
      ]
     },
     "execution_count": 30,
     "metadata": {},
     "output_type": "execute_result"
    },
    {
     "data": {
      "image/png": "[encoded data removed]",
      "text/plain": [
       "<Figure size 432x288 with 1 Axes>"
      ]
     },
     "metadata": {
      "needs_background": "light"
     },
     "output_type": "display_data"
    }
   ],
   "source": [
    "sns.histplot(data=test_B, x=\"rev\")"
   ]
  },
  {
   "cell_type": "markdown",
   "metadata": {},
   "source": [
    "По общей и точечной гистограмме мы видим превалирующее количество пользователей совершивших 0 покупок в обеих группах. Распределение не видится нормальным. Но, т.к. у нас большое число наблюдений ( больше 30), можем для сравнения средних использовать t-статистику."
   ]
  },
  {
   "cell_type": "markdown",
   "metadata": {},
   "source": [
    "### 2. Проверим распределения на нормальность"
   ]
  },
  {
   "cell_type": "code",
   "execution_count": 31,
   "metadata": {},
   "outputs": [
    {
     "data": {
      "text/html": [
       "<div>\n",
       "<style scoped>\n",
       "    .dataframe tbody tr th:only-of-type {\n",
       "        vertical-align: middle;\n",
       "    }\n",
       "\n",
       "    .dataframe tbody tr th {\n",
       "        vertical-align: top;\n",
       "    }\n",
       "\n",
       "    .dataframe thead th {\n",
       "        text-align: right;\n",
       "    }\n",
       "</style>\n",
       "<table border=\"1\" class=\"dataframe\">\n",
       "  <thead>\n",
       "    <tr style=\"text-align: right;\">\n",
       "      <th></th>\n",
       "      <th>id</th>\n",
       "      <th>rev</th>\n",
       "    </tr>\n",
       "  </thead>\n",
       "  <tbody>\n",
       "    <tr>\n",
       "      <th>count</th>\n",
       "      <td>1.535000e+03</td>\n",
       "      <td>1535.000000</td>\n",
       "    </tr>\n",
       "    <tr>\n",
       "      <th>mean</th>\n",
       "      <td>2.448344e+06</td>\n",
       "      <td>47.439739</td>\n",
       "    </tr>\n",
       "    <tr>\n",
       "      <th>std</th>\n",
       "      <td>1.584452e+06</td>\n",
       "      <td>290.766992</td>\n",
       "    </tr>\n",
       "    <tr>\n",
       "      <th>min</th>\n",
       "      <td>1.627000e+03</td>\n",
       "      <td>0.000000</td>\n",
       "    </tr>\n",
       "    <tr>\n",
       "      <th>25%</th>\n",
       "      <td>1.116413e+06</td>\n",
       "      <td>0.000000</td>\n",
       "    </tr>\n",
       "    <tr>\n",
       "      <th>50%</th>\n",
       "      <td>2.070805e+06</td>\n",
       "      <td>0.000000</td>\n",
       "    </tr>\n",
       "    <tr>\n",
       "      <th>75%</th>\n",
       "      <td>3.725562e+06</td>\n",
       "      <td>0.000000</td>\n",
       "    </tr>\n",
       "    <tr>\n",
       "      <th>max</th>\n",
       "      <td>5.690284e+06</td>\n",
       "      <td>3660.000000</td>\n",
       "    </tr>\n",
       "  </tbody>\n",
       "</table>\n",
       "</div>"
      ],
      "text/plain": [
       "                 id          rev\n",
       "count  1.535000e+03  1535.000000\n",
       "mean   2.448344e+06    47.439739\n",
       "std    1.584452e+06   290.766992\n",
       "min    1.627000e+03     0.000000\n",
       "25%    1.116413e+06     0.000000\n",
       "50%    2.070805e+06     0.000000\n",
       "75%    3.725562e+06     0.000000\n",
       "max    5.690284e+06  3660.000000"
      ]
     },
     "execution_count": 31,
     "metadata": {},
     "output_type": "execute_result"
    }
   ],
   "source": [
    "contr_A.describe()"
   ]
  },
  {
   "cell_type": "code",
   "execution_count": 32,
   "metadata": {},
   "outputs": [
    {
     "data": {
      "text/html": [
       "<div>\n",
       "<style scoped>\n",
       "    .dataframe tbody tr th:only-of-type {\n",
       "        vertical-align: middle;\n",
       "    }\n",
       "\n",
       "    .dataframe tbody tr th {\n",
       "        vertical-align: top;\n",
       "    }\n",
       "\n",
       "    .dataframe thead th {\n",
       "        text-align: right;\n",
       "    }\n",
       "</style>\n",
       "<table border=\"1\" class=\"dataframe\">\n",
       "  <thead>\n",
       "    <tr style=\"text-align: right;\">\n",
       "      <th></th>\n",
       "      <th>id</th>\n",
       "      <th>rev</th>\n",
       "    </tr>\n",
       "  </thead>\n",
       "  <tbody>\n",
       "    <tr>\n",
       "      <th>count</th>\n",
       "      <td>6.793000e+03</td>\n",
       "      <td>6793.000000</td>\n",
       "    </tr>\n",
       "    <tr>\n",
       "      <th>mean</th>\n",
       "      <td>2.442220e+06</td>\n",
       "      <td>57.864567</td>\n",
       "    </tr>\n",
       "    <tr>\n",
       "      <th>std</th>\n",
       "      <td>1.555338e+06</td>\n",
       "      <td>313.197487</td>\n",
       "    </tr>\n",
       "    <tr>\n",
       "      <th>min</th>\n",
       "      <td>2.085000e+03</td>\n",
       "      <td>0.000000</td>\n",
       "    </tr>\n",
       "    <tr>\n",
       "      <th>25%</th>\n",
       "      <td>1.118614e+06</td>\n",
       "      <td>0.000000</td>\n",
       "    </tr>\n",
       "    <tr>\n",
       "      <th>50%</th>\n",
       "      <td>2.088960e+06</td>\n",
       "      <td>0.000000</td>\n",
       "    </tr>\n",
       "    <tr>\n",
       "      <th>75%</th>\n",
       "      <td>3.611806e+06</td>\n",
       "      <td>0.000000</td>\n",
       "    </tr>\n",
       "    <tr>\n",
       "      <th>max</th>\n",
       "      <td>5.689627e+06</td>\n",
       "      <td>4650.000000</td>\n",
       "    </tr>\n",
       "  </tbody>\n",
       "</table>\n",
       "</div>"
      ],
      "text/plain": [
       "                 id          rev\n",
       "count  6.793000e+03  6793.000000\n",
       "mean   2.442220e+06    57.864567\n",
       "std    1.555338e+06   313.197487\n",
       "min    2.085000e+03     0.000000\n",
       "25%    1.118614e+06     0.000000\n",
       "50%    2.088960e+06     0.000000\n",
       "75%    3.611806e+06     0.000000\n",
       "max    5.689627e+06  4650.000000"
      ]
     },
     "execution_count": 32,
     "metadata": {},
     "output_type": "execute_result"
    }
   ],
   "source": [
    "test_B.describe()"
   ]
  },
  {
   "cell_type": "markdown",
   "metadata": {},
   "source": [
    "Видимо, что среднее значение отличается, как и стандартное отклонение."
   ]
  },
  {
   "cell_type": "code",
   "execution_count": 92,
   "metadata": {},
   "outputs": [
    {
     "data": {
      "text/html": [
       "<div>\n",
       "<style scoped>\n",
       "    .dataframe tbody tr th:only-of-type {\n",
       "        vertical-align: middle;\n",
       "    }\n",
       "\n",
       "    .dataframe tbody tr th {\n",
       "        vertical-align: top;\n",
       "    }\n",
       "\n",
       "    .dataframe thead th {\n",
       "        text-align: right;\n",
       "    }\n",
       "</style>\n",
       "<table border=\"1\" class=\"dataframe\">\n",
       "  <thead>\n",
       "    <tr style=\"text-align: right;\">\n",
       "      <th></th>\n",
       "      <th>W</th>\n",
       "      <th>pval</th>\n",
       "      <th>normal</th>\n",
       "    </tr>\n",
       "  </thead>\n",
       "  <tbody>\n",
       "    <tr>\n",
       "      <th>A</th>\n",
       "      <td>2235.003893</td>\n",
       "      <td>0.0</td>\n",
       "      <td>False</td>\n",
       "    </tr>\n",
       "    <tr>\n",
       "      <th>B</th>\n",
       "      <td>7799.583992</td>\n",
       "      <td>0.0</td>\n",
       "      <td>False</td>\n",
       "    </tr>\n",
       "  </tbody>\n",
       "</table>\n",
       "</div>"
      ],
      "text/plain": [
       "             W  pval  normal\n",
       "A  2235.003893   0.0   False\n",
       "B  7799.583992   0.0   False"
      ]
     },
     "execution_count": 92,
     "metadata": {},
     "output_type": "execute_result"
    }
   ],
   "source": [
    "# Стат тест проверки на нормальность\n",
    "pg.normality(data=active_grouped_users2, dv=\"rev\", group=\"grp\", method=\"normaltest\")"
   ]
  },
  {
   "cell_type": "code",
   "execution_count": 38,
   "metadata": {},
   "outputs": [
    {
     "data": {
      "text/plain": [
       "<matplotlib.axes._subplots.AxesSubplot at 0x7fe53ce50828>"
      ]
     },
     "execution_count": 38,
     "metadata": {},
     "output_type": "execute_result"
    },
    {
     "data": {
      "image/png": "[encoded data removed]",
      "text/plain": [
       "<Figure size 360x288 with 1 Axes>"
      ]
     },
     "metadata": {
      "needs_background": "light"
     },
     "output_type": "display_data"
    }
   ],
   "source": [
    "# Посмотрим на qq-plots\n",
    "pg.qqplot(active_grouped_users2.query(\"grp == 'A'\").rev)"
   ]
  },
  {
   "cell_type": "code",
   "execution_count": 39,
   "metadata": {},
   "outputs": [
    {
     "data": {
      "text/plain": [
       "<matplotlib.axes._subplots.AxesSubplot at 0x7fe53cd56f60>"
      ]
     },
     "execution_count": 39,
     "metadata": {},
     "output_type": "execute_result"
    },
    {
     "data": {
      "image/png": "[encoded data removed]",
      "text/plain": [
       "<Figure size 360x288 with 1 Axes>"
      ]
     },
     "metadata": {
      "needs_background": "light"
     },
     "output_type": "display_data"
    }
   ],
   "source": [
    "pg.qqplot(active_grouped_users2.query(\"grp == 'B'\").rev)"
   ]
  },
  {
   "cell_type": "markdown",
   "metadata": {},
   "source": [
    "Т.к. значения какие-то экстремальные, попробуем их сгладить при помощи логарифма, чтобы получить более наглядные графики"
   ]
  },
  {
   "cell_type": "code",
   "execution_count": 40,
   "metadata": {},
   "outputs": [
    {
     "data": {
      "text/html": [
       "<div>\n",
       "<style scoped>\n",
       "    .dataframe tbody tr th:only-of-type {\n",
       "        vertical-align: middle;\n",
       "    }\n",
       "\n",
       "    .dataframe tbody tr th {\n",
       "        vertical-align: top;\n",
       "    }\n",
       "\n",
       "    .dataframe thead th {\n",
       "        text-align: right;\n",
       "    }\n",
       "</style>\n",
       "<table border=\"1\" class=\"dataframe\">\n",
       "  <thead>\n",
       "    <tr style=\"text-align: right;\">\n",
       "      <th></th>\n",
       "      <th>id</th>\n",
       "      <th>grp</th>\n",
       "      <th>rev</th>\n",
       "    </tr>\n",
       "  </thead>\n",
       "  <tbody>\n",
       "    <tr>\n",
       "      <th>0</th>\n",
       "      <td>581585</td>\n",
       "      <td>A</td>\n",
       "      <td>0.0</td>\n",
       "    </tr>\n",
       "    <tr>\n",
       "      <th>1</th>\n",
       "      <td>3276743</td>\n",
       "      <td>B</td>\n",
       "      <td>0.0</td>\n",
       "    </tr>\n",
       "    <tr>\n",
       "      <th>2</th>\n",
       "      <td>4238589</td>\n",
       "      <td>A</td>\n",
       "      <td>0.0</td>\n",
       "    </tr>\n",
       "    <tr>\n",
       "      <th>3</th>\n",
       "      <td>4475369</td>\n",
       "      <td>B</td>\n",
       "      <td>0.0</td>\n",
       "    </tr>\n",
       "    <tr>\n",
       "      <th>4</th>\n",
       "      <td>5481015</td>\n",
       "      <td>B</td>\n",
       "      <td>0.0</td>\n",
       "    </tr>\n",
       "    <tr>\n",
       "      <th>...</th>\n",
       "      <td>...</td>\n",
       "      <td>...</td>\n",
       "      <td>...</td>\n",
       "    </tr>\n",
       "    <tr>\n",
       "      <th>8323</th>\n",
       "      <td>1794344</td>\n",
       "      <td>B</td>\n",
       "      <td>0.0</td>\n",
       "    </tr>\n",
       "    <tr>\n",
       "      <th>8324</th>\n",
       "      <td>296883</td>\n",
       "      <td>B</td>\n",
       "      <td>0.0</td>\n",
       "    </tr>\n",
       "    <tr>\n",
       "      <th>8325</th>\n",
       "      <td>3598448</td>\n",
       "      <td>B</td>\n",
       "      <td>0.0</td>\n",
       "    </tr>\n",
       "    <tr>\n",
       "      <th>8326</th>\n",
       "      <td>3610547</td>\n",
       "      <td>B</td>\n",
       "      <td>290.0</td>\n",
       "    </tr>\n",
       "    <tr>\n",
       "      <th>8327</th>\n",
       "      <td>205705</td>\n",
       "      <td>B</td>\n",
       "      <td>0.0</td>\n",
       "    </tr>\n",
       "  </tbody>\n",
       "</table>\n",
       "<p>8328 rows × 3 columns</p>\n",
       "</div>"
      ],
      "text/plain": [
       "           id grp    rev\n",
       "0      581585   A    0.0\n",
       "1     3276743   B    0.0\n",
       "2     4238589   A    0.0\n",
       "3     4475369   B    0.0\n",
       "4     5481015   B    0.0\n",
       "...       ...  ..    ...\n",
       "8323  1794344   B    0.0\n",
       "8324   296883   B    0.0\n",
       "8325  3598448   B    0.0\n",
       "8326  3610547   B  290.0\n",
       "8327   205705   B    0.0\n",
       "\n",
       "[8328 rows x 3 columns]"
      ]
     },
     "execution_count": 40,
     "metadata": {},
     "output_type": "execute_result"
    }
   ],
   "source": [
    "active_grouped_users2"
   ]
  },
  {
   "cell_type": "code",
   "execution_count": 41,
   "metadata": {},
   "outputs": [
    {
     "data": {
      "text/html": [
       "<div>\n",
       "<style scoped>\n",
       "    .dataframe tbody tr th:only-of-type {\n",
       "        vertical-align: middle;\n",
       "    }\n",
       "\n",
       "    .dataframe tbody tr th {\n",
       "        vertical-align: top;\n",
       "    }\n",
       "\n",
       "    .dataframe thead th {\n",
       "        text-align: right;\n",
       "    }\n",
       "</style>\n",
       "<table border=\"1\" class=\"dataframe\">\n",
       "  <thead>\n",
       "    <tr style=\"text-align: right;\">\n",
       "      <th></th>\n",
       "      <th>id</th>\n",
       "      <th>grp</th>\n",
       "      <th>rev</th>\n",
       "    </tr>\n",
       "  </thead>\n",
       "  <tbody>\n",
       "    <tr>\n",
       "      <th>0</th>\n",
       "      <td>581585</td>\n",
       "      <td>A</td>\n",
       "      <td>0.0</td>\n",
       "    </tr>\n",
       "    <tr>\n",
       "      <th>1</th>\n",
       "      <td>3276743</td>\n",
       "      <td>B</td>\n",
       "      <td>0.0</td>\n",
       "    </tr>\n",
       "    <tr>\n",
       "      <th>2</th>\n",
       "      <td>4238589</td>\n",
       "      <td>A</td>\n",
       "      <td>0.0</td>\n",
       "    </tr>\n",
       "    <tr>\n",
       "      <th>3</th>\n",
       "      <td>4475369</td>\n",
       "      <td>B</td>\n",
       "      <td>0.0</td>\n",
       "    </tr>\n",
       "    <tr>\n",
       "      <th>4</th>\n",
       "      <td>5481015</td>\n",
       "      <td>B</td>\n",
       "      <td>0.0</td>\n",
       "    </tr>\n",
       "    <tr>\n",
       "      <th>...</th>\n",
       "      <td>...</td>\n",
       "      <td>...</td>\n",
       "      <td>...</td>\n",
       "    </tr>\n",
       "    <tr>\n",
       "      <th>8323</th>\n",
       "      <td>1794344</td>\n",
       "      <td>B</td>\n",
       "      <td>0.0</td>\n",
       "    </tr>\n",
       "    <tr>\n",
       "      <th>8324</th>\n",
       "      <td>296883</td>\n",
       "      <td>B</td>\n",
       "      <td>0.0</td>\n",
       "    </tr>\n",
       "    <tr>\n",
       "      <th>8325</th>\n",
       "      <td>3598448</td>\n",
       "      <td>B</td>\n",
       "      <td>0.0</td>\n",
       "    </tr>\n",
       "    <tr>\n",
       "      <th>8326</th>\n",
       "      <td>3610547</td>\n",
       "      <td>B</td>\n",
       "      <td>290.0</td>\n",
       "    </tr>\n",
       "    <tr>\n",
       "      <th>8327</th>\n",
       "      <td>205705</td>\n",
       "      <td>B</td>\n",
       "      <td>0.0</td>\n",
       "    </tr>\n",
       "  </tbody>\n",
       "</table>\n",
       "<p>8328 rows × 3 columns</p>\n",
       "</div>"
      ],
      "text/plain": [
       "           id grp    rev\n",
       "0      581585   A    0.0\n",
       "1     3276743   B    0.0\n",
       "2     4238589   A    0.0\n",
       "3     4475369   B    0.0\n",
       "4     5481015   B    0.0\n",
       "...       ...  ..    ...\n",
       "8323  1794344   B    0.0\n",
       "8324   296883   B    0.0\n",
       "8325  3598448   B    0.0\n",
       "8326  3610547   B  290.0\n",
       "8327   205705   B    0.0\n",
       "\n",
       "[8328 rows x 3 columns]"
      ]
     },
     "execution_count": 41,
     "metadata": {},
     "output_type": "execute_result"
    }
   ],
   "source": [
    "#Логарифмирем значения\n",
    "log_gr=active_grouped_users2.copy()\n",
    "log_gr"
   ]
  },
  {
   "cell_type": "code",
   "execution_count": 42,
   "metadata": {},
   "outputs": [
    {
     "data": {
      "text/html": [
       "<div>\n",
       "<style scoped>\n",
       "    .dataframe tbody tr th:only-of-type {\n",
       "        vertical-align: middle;\n",
       "    }\n",
       "\n",
       "    .dataframe tbody tr th {\n",
       "        vertical-align: top;\n",
       "    }\n",
       "\n",
       "    .dataframe thead th {\n",
       "        text-align: right;\n",
       "    }\n",
       "</style>\n",
       "<table border=\"1\" class=\"dataframe\">\n",
       "  <thead>\n",
       "    <tr style=\"text-align: right;\">\n",
       "      <th></th>\n",
       "      <th>id</th>\n",
       "      <th>grp</th>\n",
       "      <th>rev</th>\n",
       "    </tr>\n",
       "  </thead>\n",
       "  <tbody>\n",
       "    <tr>\n",
       "      <th>0</th>\n",
       "      <td>581585</td>\n",
       "      <td>A</td>\n",
       "      <td>0.000000</td>\n",
       "    </tr>\n",
       "    <tr>\n",
       "      <th>1</th>\n",
       "      <td>3276743</td>\n",
       "      <td>B</td>\n",
       "      <td>0.000000</td>\n",
       "    </tr>\n",
       "    <tr>\n",
       "      <th>2</th>\n",
       "      <td>4238589</td>\n",
       "      <td>A</td>\n",
       "      <td>0.000000</td>\n",
       "    </tr>\n",
       "    <tr>\n",
       "      <th>3</th>\n",
       "      <td>4475369</td>\n",
       "      <td>B</td>\n",
       "      <td>0.000000</td>\n",
       "    </tr>\n",
       "    <tr>\n",
       "      <th>4</th>\n",
       "      <td>5481015</td>\n",
       "      <td>B</td>\n",
       "      <td>0.000000</td>\n",
       "    </tr>\n",
       "    <tr>\n",
       "      <th>...</th>\n",
       "      <td>...</td>\n",
       "      <td>...</td>\n",
       "      <td>...</td>\n",
       "    </tr>\n",
       "    <tr>\n",
       "      <th>8323</th>\n",
       "      <td>1794344</td>\n",
       "      <td>B</td>\n",
       "      <td>0.000000</td>\n",
       "    </tr>\n",
       "    <tr>\n",
       "      <th>8324</th>\n",
       "      <td>296883</td>\n",
       "      <td>B</td>\n",
       "      <td>0.000000</td>\n",
       "    </tr>\n",
       "    <tr>\n",
       "      <th>8325</th>\n",
       "      <td>3598448</td>\n",
       "      <td>B</td>\n",
       "      <td>0.000000</td>\n",
       "    </tr>\n",
       "    <tr>\n",
       "      <th>8326</th>\n",
       "      <td>3610547</td>\n",
       "      <td>B</td>\n",
       "      <td>5.669881</td>\n",
       "    </tr>\n",
       "    <tr>\n",
       "      <th>8327</th>\n",
       "      <td>205705</td>\n",
       "      <td>B</td>\n",
       "      <td>0.000000</td>\n",
       "    </tr>\n",
       "  </tbody>\n",
       "</table>\n",
       "<p>8328 rows × 3 columns</p>\n",
       "</div>"
      ],
      "text/plain": [
       "           id grp       rev\n",
       "0      581585   A  0.000000\n",
       "1     3276743   B  0.000000\n",
       "2     4238589   A  0.000000\n",
       "3     4475369   B  0.000000\n",
       "4     5481015   B  0.000000\n",
       "...       ...  ..       ...\n",
       "8323  1794344   B  0.000000\n",
       "8324   296883   B  0.000000\n",
       "8325  3598448   B  0.000000\n",
       "8326  3610547   B  5.669881\n",
       "8327   205705   B  0.000000\n",
       "\n",
       "[8328 rows x 3 columns]"
      ]
     },
     "execution_count": 42,
     "metadata": {},
     "output_type": "execute_result"
    }
   ],
   "source": [
    "log_gr['rev']=log_gr['rev'].apply(lambda x: np.log(x) if x>0 else x)\n",
    "log_gr"
   ]
  },
  {
   "cell_type": "code",
   "execution_count": 43,
   "metadata": {},
   "outputs": [
    {
     "data": {
      "text/plain": [
       "<matplotlib.axes._subplots.AxesSubplot at 0x7fe53cc9a2b0>"
      ]
     },
     "execution_count": 43,
     "metadata": {},
     "output_type": "execute_result"
    },
    {
     "data": {
      "image/png": "[encoded data removed]",
      "text/plain": [
       "<Figure size 432x288 with 1 Axes>"
      ]
     },
     "metadata": {
      "needs_background": "light"
     },
     "output_type": "display_data"
    }
   ],
   "source": [
    "sns.histplot(data=log_gr, x=\"rev\", hue=\"grp\")"
   ]
  },
  {
   "cell_type": "markdown",
   "metadata": {},
   "source": [
    "Особо ничего не изменилось с логарифимированием. Посмотрим qq-plots."
   ]
  },
  {
   "cell_type": "code",
   "execution_count": 44,
   "metadata": {},
   "outputs": [
    {
     "data": {
      "text/plain": [
       "<matplotlib.axes._subplots.AxesSubplot at 0x7fe53cc37400>"
      ]
     },
     "execution_count": 44,
     "metadata": {},
     "output_type": "execute_result"
    },
    {
     "data": {
      "image/png": "[encoded data removed]",
      "text/plain": [
       "<Figure size 360x288 with 1 Axes>"
      ]
     },
     "metadata": {
      "needs_background": "light"
     },
     "output_type": "display_data"
    }
   ],
   "source": [
    "pg.qqplot(log_gr.query(\"grp == 'A'\").rev)"
   ]
  },
  {
   "cell_type": "code",
   "execution_count": 45,
   "metadata": {},
   "outputs": [
    {
     "data": {
      "text/plain": [
       "<matplotlib.axes._subplots.AxesSubplot at 0x7fe53cba1ba8>"
      ]
     },
     "execution_count": 45,
     "metadata": {},
     "output_type": "execute_result"
    },
    {
     "data": {
      "image/png": "[encoded data removed]",
      "text/plain": [
       "<Figure size 360x288 with 1 Axes>"
      ]
     },
     "metadata": {
      "needs_background": "light"
     },
     "output_type": "display_data"
    }
   ],
   "source": [
    "pg.qqplot(log_gr.query(\"grp == 'B'\").rev)"
   ]
  },
  {
   "cell_type": "markdown",
   "metadata": {},
   "source": [
    "Результаты в целом не лучше. Более того, дают полную картину того, что распределения отнюдь не нормальные. Однако нас интересует именно разница среднего чека. Далее можно провести два теста проверки гипотез: по неотфильтрованным данным с учетом пользователей, совершивших покупку, и отфильтрованным, совершивших покупку. Ведь нас интересует именно результат целевого действия, который может потеряться -- покупка"
   ]
  },
  {
   "cell_type": "code",
   "execution_count": 75,
   "metadata": {},
   "outputs": [
    {
     "data": {
      "text/html": [
       "<div>\n",
       "<style scoped>\n",
       "    .dataframe tbody tr th:only-of-type {\n",
       "        vertical-align: middle;\n",
       "    }\n",
       "\n",
       "    .dataframe tbody tr th {\n",
       "        vertical-align: top;\n",
       "    }\n",
       "\n",
       "    .dataframe thead th {\n",
       "        text-align: right;\n",
       "    }\n",
       "</style>\n",
       "<table border=\"1\" class=\"dataframe\">\n",
       "  <thead>\n",
       "    <tr style=\"text-align: right;\">\n",
       "      <th></th>\n",
       "      <th>id</th>\n",
       "      <th>grp</th>\n",
       "      <th>rev</th>\n",
       "    </tr>\n",
       "  </thead>\n",
       "  <tbody>\n",
       "    <tr>\n",
       "      <th>0</th>\n",
       "      <td>581585</td>\n",
       "      <td>A</td>\n",
       "      <td>0.0</td>\n",
       "    </tr>\n",
       "    <tr>\n",
       "      <th>1</th>\n",
       "      <td>3276743</td>\n",
       "      <td>B</td>\n",
       "      <td>0.0</td>\n",
       "    </tr>\n",
       "    <tr>\n",
       "      <th>2</th>\n",
       "      <td>4238589</td>\n",
       "      <td>A</td>\n",
       "      <td>0.0</td>\n",
       "    </tr>\n",
       "    <tr>\n",
       "      <th>3</th>\n",
       "      <td>4475369</td>\n",
       "      <td>B</td>\n",
       "      <td>0.0</td>\n",
       "    </tr>\n",
       "    <tr>\n",
       "      <th>4</th>\n",
       "      <td>5481015</td>\n",
       "      <td>B</td>\n",
       "      <td>0.0</td>\n",
       "    </tr>\n",
       "    <tr>\n",
       "      <th>...</th>\n",
       "      <td>...</td>\n",
       "      <td>...</td>\n",
       "      <td>...</td>\n",
       "    </tr>\n",
       "    <tr>\n",
       "      <th>8323</th>\n",
       "      <td>1794344</td>\n",
       "      <td>B</td>\n",
       "      <td>0.0</td>\n",
       "    </tr>\n",
       "    <tr>\n",
       "      <th>8324</th>\n",
       "      <td>296883</td>\n",
       "      <td>B</td>\n",
       "      <td>0.0</td>\n",
       "    </tr>\n",
       "    <tr>\n",
       "      <th>8325</th>\n",
       "      <td>3598448</td>\n",
       "      <td>B</td>\n",
       "      <td>0.0</td>\n",
       "    </tr>\n",
       "    <tr>\n",
       "      <th>8326</th>\n",
       "      <td>3610547</td>\n",
       "      <td>B</td>\n",
       "      <td>290.0</td>\n",
       "    </tr>\n",
       "    <tr>\n",
       "      <th>8327</th>\n",
       "      <td>205705</td>\n",
       "      <td>B</td>\n",
       "      <td>0.0</td>\n",
       "    </tr>\n",
       "  </tbody>\n",
       "</table>\n",
       "<p>8328 rows × 3 columns</p>\n",
       "</div>"
      ],
      "text/plain": [
       "           id grp    rev\n",
       "0      581585   A    0.0\n",
       "1     3276743   B    0.0\n",
       "2     4238589   A    0.0\n",
       "3     4475369   B    0.0\n",
       "4     5481015   B    0.0\n",
       "...       ...  ..    ...\n",
       "8323  1794344   B    0.0\n",
       "8324   296883   B    0.0\n",
       "8325  3598448   B    0.0\n",
       "8326  3610547   B  290.0\n",
       "8327   205705   B    0.0\n",
       "\n",
       "[8328 rows x 3 columns]"
      ]
     },
     "execution_count": 75,
     "metadata": {},
     "output_type": "execute_result"
    }
   ],
   "source": [
    "active_grouped_users2"
   ]
  },
  {
   "cell_type": "code",
   "execution_count": 76,
   "metadata": {},
   "outputs": [
    {
     "data": {
      "text/html": [
       "<div>\n",
       "<style scoped>\n",
       "    .dataframe tbody tr th:only-of-type {\n",
       "        vertical-align: middle;\n",
       "    }\n",
       "\n",
       "    .dataframe tbody tr th {\n",
       "        vertical-align: top;\n",
       "    }\n",
       "\n",
       "    .dataframe thead th {\n",
       "        text-align: right;\n",
       "    }\n",
       "</style>\n",
       "<table border=\"1\" class=\"dataframe\">\n",
       "  <thead>\n",
       "    <tr style=\"text-align: right;\">\n",
       "      <th></th>\n",
       "      <th>grp</th>\n",
       "      <th>id</th>\n",
       "    </tr>\n",
       "  </thead>\n",
       "  <tbody>\n",
       "    <tr>\n",
       "      <th>0</th>\n",
       "      <td>A</td>\n",
       "      <td>78</td>\n",
       "    </tr>\n",
       "    <tr>\n",
       "      <th>1</th>\n",
       "      <td>B</td>\n",
       "      <td>313</td>\n",
       "    </tr>\n",
       "  </tbody>\n",
       "</table>\n",
       "</div>"
      ],
      "text/plain": [
       "  grp   id\n",
       "0   A   78\n",
       "1   B  313"
      ]
     },
     "execution_count": 76,
     "metadata": {},
     "output_type": "execute_result"
    }
   ],
   "source": [
    "#Предварительные проверки\n",
    "active_grouped_filtered=active_grouped_users2.query(\"rev>0\")\n",
    "active_grouped_filtered.groupby(\"grp\",as_index=False).agg({'id':'count'})"
   ]
  },
  {
   "cell_type": "code",
   "execution_count": 77,
   "metadata": {},
   "outputs": [
    {
     "data": {
      "text/html": [
       "<div>\n",
       "<style scoped>\n",
       "    .dataframe tbody tr th:only-of-type {\n",
       "        vertical-align: middle;\n",
       "    }\n",
       "\n",
       "    .dataframe tbody tr th {\n",
       "        vertical-align: top;\n",
       "    }\n",
       "\n",
       "    .dataframe thead th {\n",
       "        text-align: right;\n",
       "    }\n",
       "</style>\n",
       "<table border=\"1\" class=\"dataframe\">\n",
       "  <thead>\n",
       "    <tr style=\"text-align: right;\">\n",
       "      <th></th>\n",
       "      <th>id</th>\n",
       "      <th>grp</th>\n",
       "      <th>rev</th>\n",
       "    </tr>\n",
       "  </thead>\n",
       "  <tbody>\n",
       "    <tr>\n",
       "      <th>61</th>\n",
       "      <td>1184303</td>\n",
       "      <td>A</td>\n",
       "      <td>1530.0000</td>\n",
       "    </tr>\n",
       "    <tr>\n",
       "      <th>66</th>\n",
       "      <td>3354191</td>\n",
       "      <td>B</td>\n",
       "      <td>1900.0001</td>\n",
       "    </tr>\n",
       "    <tr>\n",
       "      <th>76</th>\n",
       "      <td>3278734</td>\n",
       "      <td>B</td>\n",
       "      <td>1900.0000</td>\n",
       "    </tr>\n",
       "    <tr>\n",
       "      <th>98</th>\n",
       "      <td>720651</td>\n",
       "      <td>A</td>\n",
       "      <td>1980.0000</td>\n",
       "    </tr>\n",
       "    <tr>\n",
       "      <th>191</th>\n",
       "      <td>1232221</td>\n",
       "      <td>B</td>\n",
       "      <td>1900.0000</td>\n",
       "    </tr>\n",
       "    <tr>\n",
       "      <th>...</th>\n",
       "      <td>...</td>\n",
       "      <td>...</td>\n",
       "      <td>...</td>\n",
       "    </tr>\n",
       "    <tr>\n",
       "      <th>8188</th>\n",
       "      <td>3890326</td>\n",
       "      <td>B</td>\n",
       "      <td>199.0000</td>\n",
       "    </tr>\n",
       "    <tr>\n",
       "      <th>8191</th>\n",
       "      <td>1390994</td>\n",
       "      <td>A</td>\n",
       "      <td>398.0000</td>\n",
       "    </tr>\n",
       "    <tr>\n",
       "      <th>8250</th>\n",
       "      <td>1516339</td>\n",
       "      <td>A</td>\n",
       "      <td>290.0000</td>\n",
       "    </tr>\n",
       "    <tr>\n",
       "      <th>8264</th>\n",
       "      <td>3910596</td>\n",
       "      <td>B</td>\n",
       "      <td>597.0000</td>\n",
       "    </tr>\n",
       "    <tr>\n",
       "      <th>8326</th>\n",
       "      <td>3610547</td>\n",
       "      <td>B</td>\n",
       "      <td>290.0000</td>\n",
       "    </tr>\n",
       "  </tbody>\n",
       "</table>\n",
       "<p>391 rows × 3 columns</p>\n",
       "</div>"
      ],
      "text/plain": [
       "           id grp        rev\n",
       "61    1184303   A  1530.0000\n",
       "66    3354191   B  1900.0001\n",
       "76    3278734   B  1900.0000\n",
       "98     720651   A  1980.0000\n",
       "191   1232221   B  1900.0000\n",
       "...       ...  ..        ...\n",
       "8188  3890326   B   199.0000\n",
       "8191  1390994   A   398.0000\n",
       "8250  1516339   A   290.0000\n",
       "8264  3910596   B   597.0000\n",
       "8326  3610547   B   290.0000\n",
       "\n",
       "[391 rows x 3 columns]"
      ]
     },
     "execution_count": 77,
     "metadata": {},
     "output_type": "execute_result"
    }
   ],
   "source": [
    "active_grouped_filtered"
   ]
  },
  {
   "cell_type": "code",
   "execution_count": 49,
   "metadata": {},
   "outputs": [],
   "source": [
    "A=active_grouped_filtered.query(\"grp == 'A'\")\n",
    "B=active_grouped_filtered.query(\"grp == 'B'\")"
   ]
  },
  {
   "cell_type": "code",
   "execution_count": 50,
   "metadata": {},
   "outputs": [
    {
     "data": {
      "text/html": [
       "<div>\n",
       "<style scoped>\n",
       "    .dataframe tbody tr th:only-of-type {\n",
       "        vertical-align: middle;\n",
       "    }\n",
       "\n",
       "    .dataframe tbody tr th {\n",
       "        vertical-align: top;\n",
       "    }\n",
       "\n",
       "    .dataframe thead th {\n",
       "        text-align: right;\n",
       "    }\n",
       "</style>\n",
       "<table border=\"1\" class=\"dataframe\">\n",
       "  <thead>\n",
       "    <tr style=\"text-align: right;\">\n",
       "      <th></th>\n",
       "      <th>id</th>\n",
       "      <th>rev</th>\n",
       "    </tr>\n",
       "  </thead>\n",
       "  <tbody>\n",
       "    <tr>\n",
       "      <th>count</th>\n",
       "      <td>7.800000e+01</td>\n",
       "      <td>78.000000</td>\n",
       "    </tr>\n",
       "    <tr>\n",
       "      <th>mean</th>\n",
       "      <td>2.924680e+06</td>\n",
       "      <td>933.589744</td>\n",
       "    </tr>\n",
       "    <tr>\n",
       "      <th>std</th>\n",
       "      <td>1.657487e+06</td>\n",
       "      <td>919.932711</td>\n",
       "    </tr>\n",
       "    <tr>\n",
       "      <th>min</th>\n",
       "      <td>1.627000e+03</td>\n",
       "      <td>199.000000</td>\n",
       "    </tr>\n",
       "    <tr>\n",
       "      <th>25%</th>\n",
       "      <td>1.403057e+06</td>\n",
       "      <td>290.000000</td>\n",
       "    </tr>\n",
       "    <tr>\n",
       "      <th>50%</th>\n",
       "      <td>3.176553e+06</td>\n",
       "      <td>585.000000</td>\n",
       "    </tr>\n",
       "    <tr>\n",
       "      <th>75%</th>\n",
       "      <td>4.345213e+06</td>\n",
       "      <td>1114.750000</td>\n",
       "    </tr>\n",
       "    <tr>\n",
       "      <th>max</th>\n",
       "      <td>5.577840e+06</td>\n",
       "      <td>3660.000000</td>\n",
       "    </tr>\n",
       "  </tbody>\n",
       "</table>\n",
       "</div>"
      ],
      "text/plain": [
       "                 id          rev\n",
       "count  7.800000e+01    78.000000\n",
       "mean   2.924680e+06   933.589744\n",
       "std    1.657487e+06   919.932711\n",
       "min    1.627000e+03   199.000000\n",
       "25%    1.403057e+06   290.000000\n",
       "50%    3.176553e+06   585.000000\n",
       "75%    4.345213e+06  1114.750000\n",
       "max    5.577840e+06  3660.000000"
      ]
     },
     "execution_count": 50,
     "metadata": {},
     "output_type": "execute_result"
    }
   ],
   "source": [
    "A.describe()"
   ]
  },
  {
   "cell_type": "code",
   "execution_count": 51,
   "metadata": {},
   "outputs": [
    {
     "data": {
      "text/html": [
       "<div>\n",
       "<style scoped>\n",
       "    .dataframe tbody tr th:only-of-type {\n",
       "        vertical-align: middle;\n",
       "    }\n",
       "\n",
       "    .dataframe tbody tr th {\n",
       "        vertical-align: top;\n",
       "    }\n",
       "\n",
       "    .dataframe thead th {\n",
       "        text-align: right;\n",
       "    }\n",
       "</style>\n",
       "<table border=\"1\" class=\"dataframe\">\n",
       "  <thead>\n",
       "    <tr style=\"text-align: right;\">\n",
       "      <th></th>\n",
       "      <th>id</th>\n",
       "      <th>rev</th>\n",
       "    </tr>\n",
       "  </thead>\n",
       "  <tbody>\n",
       "    <tr>\n",
       "      <th>count</th>\n",
       "      <td>3.130000e+02</td>\n",
       "      <td>313.000000</td>\n",
       "    </tr>\n",
       "    <tr>\n",
       "      <th>mean</th>\n",
       "      <td>2.820509e+06</td>\n",
       "      <td>1255.827487</td>\n",
       "    </tr>\n",
       "    <tr>\n",
       "      <th>std</th>\n",
       "      <td>1.604794e+06</td>\n",
       "      <td>791.293377</td>\n",
       "    </tr>\n",
       "    <tr>\n",
       "      <th>min</th>\n",
       "      <td>1.003000e+05</td>\n",
       "      <td>199.000000</td>\n",
       "    </tr>\n",
       "    <tr>\n",
       "      <th>25%</th>\n",
       "      <td>1.281916e+06</td>\n",
       "      <td>489.000000</td>\n",
       "    </tr>\n",
       "    <tr>\n",
       "      <th>50%</th>\n",
       "      <td>3.087954e+06</td>\n",
       "      <td>1140.000000</td>\n",
       "    </tr>\n",
       "    <tr>\n",
       "      <th>75%</th>\n",
       "      <td>4.161439e+06</td>\n",
       "      <td>1900.000000</td>\n",
       "    </tr>\n",
       "    <tr>\n",
       "      <th>max</th>\n",
       "      <td>5.681918e+06</td>\n",
       "      <td>4650.000000</td>\n",
       "    </tr>\n",
       "  </tbody>\n",
       "</table>\n",
       "</div>"
      ],
      "text/plain": [
       "                 id          rev\n",
       "count  3.130000e+02   313.000000\n",
       "mean   2.820509e+06  1255.827487\n",
       "std    1.604794e+06   791.293377\n",
       "min    1.003000e+05   199.000000\n",
       "25%    1.281916e+06   489.000000\n",
       "50%    3.087954e+06  1140.000000\n",
       "75%    4.161439e+06  1900.000000\n",
       "max    5.681918e+06  4650.000000"
      ]
     },
     "execution_count": 51,
     "metadata": {},
     "output_type": "execute_result"
    }
   ],
   "source": [
    "B.describe()"
   ]
  },
  {
   "cell_type": "code",
   "execution_count": 52,
   "metadata": {},
   "outputs": [
    {
     "data": {
      "text/plain": [
       "<matplotlib.axes._subplots.AxesSubplot at 0x7fe53cb21e48>"
      ]
     },
     "execution_count": 52,
     "metadata": {},
     "output_type": "execute_result"
    },
    {
     "data": {
      "image/png": "[encoded data removed]",
      "text/plain": [
       "<Figure size 432x288 with 1 Axes>"
      ]
     },
     "metadata": {
      "needs_background": "light"
     },
     "output_type": "display_data"
    }
   ],
   "source": [
    "sns.histplot(data=active_grouped_filtered, x=\"rev\", hue=\"grp\")"
   ]
  },
  {
   "cell_type": "markdown",
   "metadata": {},
   "source": [
    "Распределение немного скошенное, во всяком случае, для группы А, ассиметричное как будто."
   ]
  },
  {
   "cell_type": "code",
   "execution_count": 53,
   "metadata": {},
   "outputs": [
    {
     "data": {
      "text/html": [
       "<div>\n",
       "<style scoped>\n",
       "    .dataframe tbody tr th:only-of-type {\n",
       "        vertical-align: middle;\n",
       "    }\n",
       "\n",
       "    .dataframe tbody tr th {\n",
       "        vertical-align: top;\n",
       "    }\n",
       "\n",
       "    .dataframe thead th {\n",
       "        text-align: right;\n",
       "    }\n",
       "</style>\n",
       "<table border=\"1\" class=\"dataframe\">\n",
       "  <thead>\n",
       "    <tr style=\"text-align: right;\">\n",
       "      <th></th>\n",
       "      <th>W</th>\n",
       "      <th>pval</th>\n",
       "      <th>normal</th>\n",
       "    </tr>\n",
       "  </thead>\n",
       "  <tbody>\n",
       "    <tr>\n",
       "      <th>A</th>\n",
       "      <td>30.37842</td>\n",
       "      <td>2.531687e-07</td>\n",
       "      <td>False</td>\n",
       "    </tr>\n",
       "    <tr>\n",
       "      <th>B</th>\n",
       "      <td>7.02227</td>\n",
       "      <td>2.986301e-02</td>\n",
       "      <td>False</td>\n",
       "    </tr>\n",
       "  </tbody>\n",
       "</table>\n",
       "</div>"
      ],
      "text/plain": [
       "          W          pval  normal\n",
       "A  30.37842  2.531687e-07   False\n",
       "B   7.02227  2.986301e-02   False"
      ]
     },
     "execution_count": 53,
     "metadata": {},
     "output_type": "execute_result"
    }
   ],
   "source": [
    "pg.normality(data=active_grouped_filtered, dv=\"rev\", group=\"grp\", method=\"normaltest\")"
   ]
  },
  {
   "cell_type": "code",
   "execution_count": 54,
   "metadata": {},
   "outputs": [
    {
     "data": {
      "text/html": [
       "<div>\n",
       "<style scoped>\n",
       "    .dataframe tbody tr th:only-of-type {\n",
       "        vertical-align: middle;\n",
       "    }\n",
       "\n",
       "    .dataframe tbody tr th {\n",
       "        vertical-align: top;\n",
       "    }\n",
       "\n",
       "    .dataframe thead th {\n",
       "        text-align: right;\n",
       "    }\n",
       "</style>\n",
       "<table border=\"1\" class=\"dataframe\">\n",
       "  <thead>\n",
       "    <tr style=\"text-align: right;\">\n",
       "      <th></th>\n",
       "      <th>W</th>\n",
       "      <th>pval</th>\n",
       "      <th>normal</th>\n",
       "    </tr>\n",
       "  </thead>\n",
       "  <tbody>\n",
       "    <tr>\n",
       "      <th>A</th>\n",
       "      <td>0.735324</td>\n",
       "      <td>1.498682e-10</td>\n",
       "      <td>False</td>\n",
       "    </tr>\n",
       "    <tr>\n",
       "      <th>B</th>\n",
       "      <td>0.855199</td>\n",
       "      <td>1.756779e-16</td>\n",
       "      <td>False</td>\n",
       "    </tr>\n",
       "  </tbody>\n",
       "</table>\n",
       "</div>"
      ],
      "text/plain": [
       "          W          pval  normal\n",
       "A  0.735324  1.498682e-10   False\n",
       "B  0.855199  1.756779e-16   False"
      ]
     },
     "execution_count": 54,
     "metadata": {},
     "output_type": "execute_result"
    }
   ],
   "source": [
    "pg.normality(data=active_grouped_filtered, dv=\"rev\", group=\"grp\")"
   ]
  },
  {
   "cell_type": "code",
   "execution_count": 55,
   "metadata": {},
   "outputs": [
    {
     "data": {
      "text/plain": [
       "<matplotlib.axes._subplots.AxesSubplot at 0x7fe53ca4b2b0>"
      ]
     },
     "execution_count": 55,
     "metadata": {},
     "output_type": "execute_result"
    },
    {
     "data": {
      "image/png": "[encoded data removed]",
      "text/plain": [
       "<Figure size 360x288 with 1 Axes>"
      ]
     },
     "metadata": {
      "needs_background": "light"
     },
     "output_type": "display_data"
    }
   ],
   "source": [
    "pg.qqplot(active_grouped_filtered.query(\"grp == 'A'\").rev)"
   ]
  },
  {
   "cell_type": "code",
   "execution_count": 56,
   "metadata": {},
   "outputs": [
    {
     "data": {
      "text/plain": [
       "<matplotlib.axes._subplots.AxesSubplot at 0x7fe53cbd15c0>"
      ]
     },
     "execution_count": 56,
     "metadata": {},
     "output_type": "execute_result"
    },
    {
     "data": {
      "image/png": "[encoded data removed]",
      "text/plain": [
       "<Figure size 360x288 with 1 Axes>"
      ]
     },
     "metadata": {
      "needs_background": "light"
     },
     "output_type": "display_data"
    }
   ],
   "source": [
    "pg.qqplot(active_grouped_filtered.query(\"grp == 'B'\").rev)"
   ]
  },
  {
   "cell_type": "markdown",
   "metadata": {},
   "source": [
    "Итог проверки на нормальность:\n",
    "Данные не являются нормально распределенными. Более того,в неотфильтрованных данных преобладает большое количество пользователей, не совершивших покупку вовсе. Из-за того, что нас интересует более целевой действие - покупка - будем рассматривать гипотезы относительно отфильтрованного списка."
   ]
  },
  {
   "cell_type": "markdown",
   "metadata": {},
   "source": [
    "### 3. Сравнение средней суммы покупок пользователя"
   ]
  },
  {
   "cell_type": "markdown",
   "metadata": {},
   "source": [
    "Т.к. данные не являются нормально распределенными, можно использовать непараметрические тесты, например, Манна-Уитни. Но при большом объеме выборки (большим 30) можно применять и t-тест, т.к. распределение будет стремиться к нормальному с большим степеней свободы."
   ]
  },
  {
   "cell_type": "code",
   "execution_count": 94,
   "metadata": {},
   "outputs": [
    {
     "data": {
      "text/plain": [
       "grp\n",
       "A    919.932711\n",
       "B    791.293377\n",
       "Name: rev, dtype: float64"
      ]
     },
     "execution_count": 94,
     "metadata": {},
     "output_type": "execute_result"
    }
   ],
   "source": [
    "#Проверим стандартное отклонение\n",
    "active_grouped_filtered.groupby(\"grp\").rev.std()"
   ]
  },
  {
   "cell_type": "markdown",
   "metadata": {},
   "source": [
    "С помощью теста Левана определяем равенство дисперсий\n",
    "\n",
    "**H0**: Дисперсии внутри групп равны\n",
    "**H1**: Дисперсии внутри групп отличаются"
   ]
  },
  {
   "cell_type": "code",
   "execution_count": 60,
   "metadata": {},
   "outputs": [
    {
     "data": {
      "text/plain": [
       "LeveneResult(statistic=3.055864350672603, pvalue=0.08123509393501775)"
      ]
     },
     "execution_count": 60,
     "metadata": {},
     "output_type": "execute_result"
    }
   ],
   "source": [
    "ss.levene(active_grouped_filtered.query(\"grp == 'A'\").rev, active_grouped_filtered.query(\"grp == 'B'\").rev)"
   ]
  },
  {
   "cell_type": "markdown",
   "metadata": {},
   "source": [
    "p-value  >0.05, а это значит, что отличий нет. Дисперсии одинаковы между группами А и В для обоих кейсов."
   ]
  },
  {
   "cell_type": "markdown",
   "metadata": {},
   "source": [
    "Ранее мы проводили распределение выборок на нормальность. Распределения оказались ненормальными. Можно использовать и т-тест, но в распределении есть выборсы, судя по графику. Если бы оно отдаленно напоминало нормальное, то можно было бы его применить и при провале тестов.\n",
    "Применим далее бутстрап."
   ]
  },
  {
   "cell_type": "code",
   "execution_count": 108,
   "metadata": {},
   "outputs": [
    {
     "data": {
      "text/plain": [
       "BootstrapResult(confidence_interval=ConfidenceInterval(low=688.7707154717377, high=1303.8668217585919), standard_error=104.24173770955866)"
      ]
     },
     "execution_count": 108,
     "metadata": {},
     "output_type": "execute_result"
    }
   ],
   "source": [
    "#bootstrap по отфилтированной группе А\n",
    "#среднее 933.59\n",
    "bootstrap((active_grouped_filtered.query(\"grp == 'A'\").rev, ), np.mean,confidence_level= 0.995)"
   ]
  },
  {
   "cell_type": "code",
   "execution_count": 109,
   "metadata": {},
   "outputs": [
    {
     "data": {
      "text/plain": [
       "BootstrapResult(confidence_interval=ConfidenceInterval(low=1136.5827910342853, high=1385.0685750398484), standard_error=44.646022101441744)"
      ]
     },
     "execution_count": 109,
     "metadata": {},
     "output_type": "execute_result"
    }
   ],
   "source": [
    "#bootstrap по отфилтированной группе В\n",
    "#среднее 1255.83\n",
    "bootstrap((active_grouped_filtered.query(\"grp == 'B'\").rev, ), np.mean,confidence_level= 0.995)"
   ]
  },
  {
   "cell_type": "markdown",
   "metadata": {},
   "source": [
    "Таким образом, мы видим, что для **отфильтрованной** выборки все в точности да наоборот: p-value <0.05 (0.005). Это значит,*грубо говоря*, что  мы можем получить совпадения по среднему чеку в менее 0.05% случаев. \n",
    "В отфильтрованном списке разница намного выше:\n",
    "для А - среднее 933.59 с интервалом (686.21;1281.93) и для В - 1255.83 с интервалом (1136.82;1377.08). Разница  примерно в 300 рублей."
   ]
  },
  {
   "cell_type": "markdown",
   "metadata": {},
   "source": [
    "## Вывод по гипотизе 1:\n",
    "Мы видим, что для группы В средний платеж (чек) оказался выше. А разница в чеках пользователей не одинаковая для двух групп. Однако, и количество пользователей в этой группе тоже больше,чем в А. И здесь можно проверить Гипотезу 2 по равенству медиан. Ибо медиана может отличаться от среднего при различных выбросах.\n",
    "\n",
    "Значит, мы отвергаем **H0**, что у нас нет отличий в средних чека пользователя, но принимаем гипотезу о том, что дисперсии групп равны."
   ]
  },
  {
   "cell_type": "markdown",
   "metadata": {},
   "source": [
    "## Гипотеза 2: Какова разница в медианах"
   ]
  },
  {
   "cell_type": "markdown",
   "metadata": {},
   "source": [
    "Т.к. мы уже сделали все предварительные шаги по проверке распределния на нормальность, можно воспользоваться бутстрапом по медиане.\n",
    "**H0**: Медианы не отличаются"
   ]
  },
  {
   "cell_type": "code",
   "execution_count": 81,
   "metadata": {},
   "outputs": [],
   "source": [
    "median_diff = []\n",
    "old_revenue=active_grouped_filtered.query(\"grp == 'A'\").rev\n",
    "new_revenue=active_grouped_filtered.query(\"grp == 'B'\").rev\n",
    "\n",
    "for i in range(1000):\n",
    "    sample_old = old_revenue.sample(frac=1, replace=True)\n",
    "    sample_median_old = sample_old.median()\n",
    "    \n",
    "    \n",
    "    sample_data_new = new_revenue.sample(frac=1, replace=True)\n",
    "    sample_median_new = sample_data_new.median()\n",
    "    \n",
    "    sample_median_diff = sample_median_new - sample_median_old \n",
    "    median_diff.append(sample_median_diff)"
   ]
  },
  {
   "cell_type": "code",
   "execution_count": 82,
   "metadata": {},
   "outputs": [
    {
     "data": {
      "text/plain": [
       "(500.0, 1320.0)"
      ]
     },
     "execution_count": 82,
     "metadata": {},
     "output_type": "execute_result"
    }
   ],
   "source": [
    "high=pd.Series(median_diff).quantile(0.975)\n",
    "low=pd.Series(median_diff).quantile(0.25)\n",
    "low,high"
   ]
  },
  {
   "cell_type": "code",
   "execution_count": 83,
   "metadata": {},
   "outputs": [
    {
     "data": {
      "text/plain": [
       "585.0"
      ]
     },
     "execution_count": 83,
     "metadata": {},
     "output_type": "execute_result"
    }
   ],
   "source": [
    "old_revenue.median()"
   ]
  },
  {
   "cell_type": "code",
   "execution_count": 84,
   "metadata": {},
   "outputs": [
    {
     "data": {
      "text/plain": [
       "1140.0"
      ]
     },
     "execution_count": 84,
     "metadata": {},
     "output_type": "execute_result"
    }
   ],
   "source": [
    "new_revenue.median()"
   ]
  },
  {
   "cell_type": "code",
   "execution_count": 85,
   "metadata": {},
   "outputs": [
    {
     "data": {
      "text/plain": [
       "array([ 150., 1320.])"
      ]
     },
     "execution_count": 85,
     "metadata": {},
     "output_type": "execute_result"
    }
   ],
   "source": [
    "#Расчет при помощи пингвина\n",
    "pg.compute_bootci(active_grouped_filtered.query(\"grp == 'B'\")[\"rev\"], \n",
    "                  active_grouped_filtered.query(\"grp == 'A'\")[\"rev\"], \n",
    "                  func=lambda x, y: np.median(x) - np.median(y),confidence=0.975, n_boot=1000)"
   ]
  },
  {
   "cell_type": "markdown",
   "metadata": {},
   "source": [
    "Также видим разницу в медианах между группой А и В: 585 против 1140, находящаяся в диапазоне (460.0, 1320.0). Как мы видим, 0 находится довольно далеко за пределами доверительного интервала, а значит, и гипотезу 2 мы отклоняем в пользу альтернативной: медианы отличаются."
   ]
  },
  {
   "cell_type": "markdown",
   "metadata": {},
   "source": [
    "## Гипотеза 3: Соотношение количества пользователей,  произведших оплату, не изменилось\n"
   ]
  },
  {
   "cell_type": "code",
   "execution_count": 87,
   "metadata": {},
   "outputs": [
    {
     "data": {
      "text/html": [
       "<div>\n",
       "<style scoped>\n",
       "    .dataframe tbody tr th:only-of-type {\n",
       "        vertical-align: middle;\n",
       "    }\n",
       "\n",
       "    .dataframe tbody tr th {\n",
       "        vertical-align: top;\n",
       "    }\n",
       "\n",
       "    .dataframe thead th {\n",
       "        text-align: right;\n",
       "    }\n",
       "</style>\n",
       "<table border=\"1\" class=\"dataframe\">\n",
       "  <thead>\n",
       "    <tr style=\"text-align: right;\">\n",
       "      <th></th>\n",
       "      <th>id</th>\n",
       "      <th>grp</th>\n",
       "      <th>rev</th>\n",
       "      <th>is_payed</th>\n",
       "    </tr>\n",
       "  </thead>\n",
       "  <tbody>\n",
       "    <tr>\n",
       "      <th>0</th>\n",
       "      <td>581585</td>\n",
       "      <td>A</td>\n",
       "      <td>0.0</td>\n",
       "      <td>0</td>\n",
       "    </tr>\n",
       "    <tr>\n",
       "      <th>1</th>\n",
       "      <td>3276743</td>\n",
       "      <td>B</td>\n",
       "      <td>0.0</td>\n",
       "      <td>0</td>\n",
       "    </tr>\n",
       "    <tr>\n",
       "      <th>2</th>\n",
       "      <td>4238589</td>\n",
       "      <td>A</td>\n",
       "      <td>0.0</td>\n",
       "      <td>0</td>\n",
       "    </tr>\n",
       "    <tr>\n",
       "      <th>3</th>\n",
       "      <td>4475369</td>\n",
       "      <td>B</td>\n",
       "      <td>0.0</td>\n",
       "      <td>0</td>\n",
       "    </tr>\n",
       "    <tr>\n",
       "      <th>4</th>\n",
       "      <td>5481015</td>\n",
       "      <td>B</td>\n",
       "      <td>0.0</td>\n",
       "      <td>0</td>\n",
       "    </tr>\n",
       "    <tr>\n",
       "      <th>...</th>\n",
       "      <td>...</td>\n",
       "      <td>...</td>\n",
       "      <td>...</td>\n",
       "      <td>...</td>\n",
       "    </tr>\n",
       "    <tr>\n",
       "      <th>8323</th>\n",
       "      <td>1794344</td>\n",
       "      <td>B</td>\n",
       "      <td>0.0</td>\n",
       "      <td>0</td>\n",
       "    </tr>\n",
       "    <tr>\n",
       "      <th>8324</th>\n",
       "      <td>296883</td>\n",
       "      <td>B</td>\n",
       "      <td>0.0</td>\n",
       "      <td>0</td>\n",
       "    </tr>\n",
       "    <tr>\n",
       "      <th>8325</th>\n",
       "      <td>3598448</td>\n",
       "      <td>B</td>\n",
       "      <td>0.0</td>\n",
       "      <td>0</td>\n",
       "    </tr>\n",
       "    <tr>\n",
       "      <th>8326</th>\n",
       "      <td>3610547</td>\n",
       "      <td>B</td>\n",
       "      <td>290.0</td>\n",
       "      <td>1</td>\n",
       "    </tr>\n",
       "    <tr>\n",
       "      <th>8327</th>\n",
       "      <td>205705</td>\n",
       "      <td>B</td>\n",
       "      <td>0.0</td>\n",
       "      <td>0</td>\n",
       "    </tr>\n",
       "  </tbody>\n",
       "</table>\n",
       "<p>8328 rows × 4 columns</p>\n",
       "</div>"
      ],
      "text/plain": [
       "           id grp    rev  is_payed\n",
       "0      581585   A    0.0         0\n",
       "1     3276743   B    0.0         0\n",
       "2     4238589   A    0.0         0\n",
       "3     4475369   B    0.0         0\n",
       "4     5481015   B    0.0         0\n",
       "...       ...  ..    ...       ...\n",
       "8323  1794344   B    0.0         0\n",
       "8324   296883   B    0.0         0\n",
       "8325  3598448   B    0.0         0\n",
       "8326  3610547   B  290.0         1\n",
       "8327   205705   B    0.0         0\n",
       "\n",
       "[8328 rows x 4 columns]"
      ]
     },
     "execution_count": 87,
     "metadata": {},
     "output_type": "execute_result"
    }
   ],
   "source": [
    "active_grouped_users2['is_payed']=active_grouped_users2['rev'].apply(lambda x: 1 if x>0 else 0)\n",
    "active_grouped_users2"
   ]
  },
  {
   "cell_type": "code",
   "execution_count": 88,
   "metadata": {},
   "outputs": [
    {
     "data": {
      "text/html": [
       "<div>\n",
       "<style scoped>\n",
       "    .dataframe tbody tr th:only-of-type {\n",
       "        vertical-align: middle;\n",
       "    }\n",
       "\n",
       "    .dataframe tbody tr th {\n",
       "        vertical-align: top;\n",
       "    }\n",
       "\n",
       "    .dataframe thead th {\n",
       "        text-align: right;\n",
       "    }\n",
       "</style>\n",
       "<table border=\"1\" class=\"dataframe\">\n",
       "  <thead>\n",
       "    <tr style=\"text-align: right;\">\n",
       "      <th>is_payed</th>\n",
       "      <th>0</th>\n",
       "      <th>1</th>\n",
       "    </tr>\n",
       "    <tr>\n",
       "      <th>grp</th>\n",
       "      <th></th>\n",
       "      <th></th>\n",
       "    </tr>\n",
       "  </thead>\n",
       "  <tbody>\n",
       "    <tr>\n",
       "      <th>A</th>\n",
       "      <td>1457</td>\n",
       "      <td>78</td>\n",
       "    </tr>\n",
       "    <tr>\n",
       "      <th>B</th>\n",
       "      <td>6480</td>\n",
       "      <td>313</td>\n",
       "    </tr>\n",
       "  </tbody>\n",
       "</table>\n",
       "</div>"
      ],
      "text/plain": [
       "is_payed     0    1\n",
       "grp                \n",
       "A         1457   78\n",
       "B         6480  313"
      ]
     },
     "execution_count": 88,
     "metadata": {},
     "output_type": "execute_result"
    }
   ],
   "source": [
    "#Выведем соотношение признаков в каждой из групп\n",
    "pd.crosstab(active_grouped_users2.grp, active_grouped_users2.is_payed)"
   ]
  },
  {
   "cell_type": "code",
   "execution_count": 89,
   "metadata": {},
   "outputs": [
    {
     "data": {
      "text/html": [
       "<div>\n",
       "<style scoped>\n",
       "    .dataframe tbody tr th:only-of-type {\n",
       "        vertical-align: middle;\n",
       "    }\n",
       "\n",
       "    .dataframe tbody tr th {\n",
       "        vertical-align: top;\n",
       "    }\n",
       "\n",
       "    .dataframe thead th {\n",
       "        text-align: right;\n",
       "    }\n",
       "</style>\n",
       "<table border=\"1\" class=\"dataframe\">\n",
       "  <thead>\n",
       "    <tr style=\"text-align: right;\">\n",
       "      <th></th>\n",
       "      <th>test</th>\n",
       "      <th>lambda</th>\n",
       "      <th>chi2</th>\n",
       "      <th>dof</th>\n",
       "      <th>pval</th>\n",
       "      <th>cramer</th>\n",
       "      <th>power</th>\n",
       "    </tr>\n",
       "  </thead>\n",
       "  <tbody>\n",
       "    <tr>\n",
       "      <th>0</th>\n",
       "      <td>pearson</td>\n",
       "      <td>1.000000</td>\n",
       "      <td>0.526607</td>\n",
       "      <td>1.0</td>\n",
       "      <td>0.468037</td>\n",
       "      <td>0.007952</td>\n",
       "      <td>0.112168</td>\n",
       "    </tr>\n",
       "    <tr>\n",
       "      <th>1</th>\n",
       "      <td>cressie-read</td>\n",
       "      <td>0.666667</td>\n",
       "      <td>0.523446</td>\n",
       "      <td>1.0</td>\n",
       "      <td>0.469375</td>\n",
       "      <td>0.007928</td>\n",
       "      <td>0.111786</td>\n",
       "    </tr>\n",
       "    <tr>\n",
       "      <th>2</th>\n",
       "      <td>log-likelihood</td>\n",
       "      <td>0.000000</td>\n",
       "      <td>0.517247</td>\n",
       "      <td>1.0</td>\n",
       "      <td>0.472019</td>\n",
       "      <td>0.007881</td>\n",
       "      <td>0.111037</td>\n",
       "    </tr>\n",
       "    <tr>\n",
       "      <th>3</th>\n",
       "      <td>freeman-tukey</td>\n",
       "      <td>-0.500000</td>\n",
       "      <td>0.512702</td>\n",
       "      <td>1.0</td>\n",
       "      <td>0.473971</td>\n",
       "      <td>0.007846</td>\n",
       "      <td>0.110488</td>\n",
       "    </tr>\n",
       "    <tr>\n",
       "      <th>4</th>\n",
       "      <td>mod-log-likelihood</td>\n",
       "      <td>-1.000000</td>\n",
       "      <td>0.508246</td>\n",
       "      <td>1.0</td>\n",
       "      <td>0.475899</td>\n",
       "      <td>0.007812</td>\n",
       "      <td>0.109950</td>\n",
       "    </tr>\n",
       "    <tr>\n",
       "      <th>5</th>\n",
       "      <td>neyman</td>\n",
       "      <td>-2.000000</td>\n",
       "      <td>0.499590</td>\n",
       "      <td>1.0</td>\n",
       "      <td>0.479680</td>\n",
       "      <td>0.007745</td>\n",
       "      <td>0.108905</td>\n",
       "    </tr>\n",
       "  </tbody>\n",
       "</table>\n",
       "</div>"
      ],
      "text/plain": [
       "                 test    lambda      chi2  dof      pval    cramer     power\n",
       "0             pearson  1.000000  0.526607  1.0  0.468037  0.007952  0.112168\n",
       "1        cressie-read  0.666667  0.523446  1.0  0.469375  0.007928  0.111786\n",
       "2      log-likelihood  0.000000  0.517247  1.0  0.472019  0.007881  0.111037\n",
       "3       freeman-tukey -0.500000  0.512702  1.0  0.473971  0.007846  0.110488\n",
       "4  mod-log-likelihood -1.000000  0.508246  1.0  0.475899  0.007812  0.109950\n",
       "5              neyman -2.000000  0.499590  1.0  0.479680  0.007745  0.108905"
      ]
     },
     "execution_count": 89,
     "metadata": {},
     "output_type": "execute_result"
    }
   ],
   "source": [
    "#Проверим тестом хи-квадрат\n",
    "exp, obs, stats = pg.chi2_independence(data=active_grouped_users2, \n",
    "                                       x=\"grp\", \n",
    "                                       y=\"is_payed\")\n",
    "stats"
   ]
  },
  {
   "cell_type": "code",
   "execution_count": 90,
   "metadata": {},
   "outputs": [
    {
     "data": {
      "text/plain": [
       "0.050814332247557006"
      ]
     },
     "execution_count": 90,
     "metadata": {},
     "output_type": "execute_result"
    }
   ],
   "source": [
    "#Соотношение оплативших ко всем в группе А\n",
    "78/(1457+78)"
   ]
  },
  {
   "cell_type": "code",
   "execution_count": 91,
   "metadata": {},
   "outputs": [
    {
     "data": {
      "text/plain": [
       "0.04607684380980421"
      ]
     },
     "execution_count": 91,
     "metadata": {},
     "output_type": "execute_result"
    }
   ],
   "source": [
    "#Соотношение оплативших ко всем в группе В\n",
    "\n",
    "313/(6480+313)"
   ]
  },
  {
   "cell_type": "markdown",
   "metadata": {},
   "source": [
    "Видим, что по всем тестам у нас соотношение оплативших не изменилось (p-value >0.05). Мы не можем отклонить нулевую гипотезу о равенстве соотношений. Они примерно одинаковые (0.05 оплативших в группе А и 0.04 - в группе В)."
   ]
  },
  {
   "cell_type": "markdown",
   "metadata": {},
   "source": [
    "# Выводы:\n",
    "Таким образом, для гипотезы отличия среднего чека в двух группах по отфильтрованым пользователям мы смогли отклонить нулевую гипотезу. А значит, средний чек увеличился. По гипотезе два - о различии медиан - тоже отклоняем нулевую гипотезу. Гипотеза 3 о наличии различий в соотношении оплативших пользователей ко всему количеству, не подтвердилась: нулевая гипотеза оказалась верна. Тем и лучше: у нас есть все доказательства того, что по соотношению пользователей ничего сильно не изменилось, но при этом вырос средний чек практически на 300 рублей, а медианный чек меняется в интервале (460;1320).\n",
    "\n",
    "В целом новая механика оплаты показала себя достойно. Можно ее запускать, учитывая следующее:\n",
    "\n",
    "- Нет времени на долгие эксперименты ( можно было бы понаблюдать в течение месяца или хотя бы двух недель и собрать более точную выборку с примерно одинаковым соотношением лиц в группах А и В)\n",
    "- Разница в 300 рублей нас устраивает. Ведь если ожидался минимальный детектируемый эффект, например, в 2000 рублей или больше, то результаты эксперимента не валидны в таком случае "
   ]
  },
  {
   "cell_type": "markdown",
   "metadata": {},
   "source": [
    "# Задача 3"
   ]
  },
  {
   "cell_type": "markdown",
   "metadata": {},
   "source": [
    "Поскольку задача 3 связана с первой,  перейдем к выполнению данного пункта"
   ]
  },
  {
   "cell_type": "markdown",
   "metadata": {},
   "source": [
    "**Вопросы**\n",
    "\n",
    "1.Реализуйте функцию, которая будет автоматически подгружать информацию из дополнительного файла groups_add.csv (заголовки могут отличаться) и на основании дополнительных параметров пересчитывать метрики.\n",
    "\n",
    "2.Реализуйте функцию, которая будет строить графики по получаемым метрикам."
   ]
  },
  {
   "cell_type": "markdown",
   "metadata": {},
   "source": [
    "## Функция подгрузки доп данных и пересчет метрик"
   ]
  },
  {
   "cell_type": "markdown",
   "metadata": {},
   "source": [
    "У нас есть три метрики:\n",
    "\n",
    "- Средний чек по оплате\n",
    "- Соотношение количества оплативших ко всем\n",
    "- Средний медианный чек"
   ]
  },
  {
   "cell_type": "markdown",
   "metadata": {},
   "source": [
    "Перед тем, как сделать анализ, узнаем, сколько там вообще пользователей, которые:\n",
    "\n",
    "- Являются активными\n",
    "- Совершили оплату\n",
    "- Определены в группу\n",
    "\n",
    "Поскольку до этого не включили их в основной алгоритм из-за того,что про них говорится в 3м задании. Заодно можно попробовать определить эффект на метрики"
   ]
  },
  {
   "cell_type": "code",
   "execution_count": 83,
   "metadata": {},
   "outputs": [
    {
     "data": {
      "text/html": [
       "<div>\n",
       "<style scoped>\n",
       "    .dataframe tbody tr th:only-of-type {\n",
       "        vertical-align: middle;\n",
       "    }\n",
       "\n",
       "    .dataframe tbody tr th {\n",
       "        vertical-align: top;\n",
       "    }\n",
       "\n",
       "    .dataframe thead th {\n",
       "        text-align: right;\n",
       "    }\n",
       "</style>\n",
       "<table border=\"1\" class=\"dataframe\">\n",
       "  <thead>\n",
       "    <tr style=\"text-align: right;\">\n",
       "      <th></th>\n",
       "      <th>id</th>\n",
       "      <th>grp</th>\n",
       "    </tr>\n",
       "  </thead>\n",
       "  <tbody>\n",
       "    <tr>\n",
       "      <th>0</th>\n",
       "      <td>5694584</td>\n",
       "      <td>B</td>\n",
       "    </tr>\n",
       "    <tr>\n",
       "      <th>1</th>\n",
       "      <td>5694830</td>\n",
       "      <td>B</td>\n",
       "    </tr>\n",
       "    <tr>\n",
       "      <th>2</th>\n",
       "      <td>5695057</td>\n",
       "      <td>B</td>\n",
       "    </tr>\n",
       "    <tr>\n",
       "      <th>3</th>\n",
       "      <td>5698872</td>\n",
       "      <td>B</td>\n",
       "    </tr>\n",
       "    <tr>\n",
       "      <th>4</th>\n",
       "      <td>5699067</td>\n",
       "      <td>B</td>\n",
       "    </tr>\n",
       "    <tr>\n",
       "      <th>...</th>\n",
       "      <td>...</td>\n",
       "      <td>...</td>\n",
       "    </tr>\n",
       "    <tr>\n",
       "      <th>87</th>\n",
       "      <td>200247820</td>\n",
       "      <td>B</td>\n",
       "    </tr>\n",
       "    <tr>\n",
       "      <th>88</th>\n",
       "      <td>201032527</td>\n",
       "      <td>B</td>\n",
       "    </tr>\n",
       "    <tr>\n",
       "      <th>89</th>\n",
       "      <td>201067612</td>\n",
       "      <td>B</td>\n",
       "    </tr>\n",
       "    <tr>\n",
       "      <th>90</th>\n",
       "      <td>201067653</td>\n",
       "      <td>B</td>\n",
       "    </tr>\n",
       "    <tr>\n",
       "      <th>91</th>\n",
       "      <td>201067659</td>\n",
       "      <td>B</td>\n",
       "    </tr>\n",
       "  </tbody>\n",
       "</table>\n",
       "<p>92 rows × 2 columns</p>\n",
       "</div>"
      ],
      "text/plain": [
       "           id grp\n",
       "0     5694584   B\n",
       "1     5694830   B\n",
       "2     5695057   B\n",
       "3     5698872   B\n",
       "4     5699067   B\n",
       "..        ...  ..\n",
       "87  200247820   B\n",
       "88  201032527   B\n",
       "89  201067612   B\n",
       "90  201067653   B\n",
       "91  201067659   B\n",
       "\n",
       "[92 rows x 2 columns]"
      ]
     },
     "execution_count": 83,
     "metadata": {},
     "output_type": "execute_result"
    }
   ],
   "source": [
    "group_add"
   ]
  },
  {
   "cell_type": "markdown",
   "metadata": {},
   "source": [
    "Всего 92 пользователя в доп файле"
   ]
  },
  {
   "cell_type": "code",
   "execution_count": 85,
   "metadata": {},
   "outputs": [
    {
     "data": {
      "text/html": [
       "<div>\n",
       "<style scoped>\n",
       "    .dataframe tbody tr th:only-of-type {\n",
       "        vertical-align: middle;\n",
       "    }\n",
       "\n",
       "    .dataframe tbody tr th {\n",
       "        vertical-align: top;\n",
       "    }\n",
       "\n",
       "    .dataframe thead th {\n",
       "        text-align: right;\n",
       "    }\n",
       "</style>\n",
       "<table border=\"1\" class=\"dataframe\">\n",
       "  <thead>\n",
       "    <tr style=\"text-align: right;\">\n",
       "      <th></th>\n",
       "      <th>id</th>\n",
       "      <th>grp</th>\n",
       "    </tr>\n",
       "  </thead>\n",
       "  <tbody>\n",
       "    <tr>\n",
       "      <th>0</th>\n",
       "      <td>5700613</td>\n",
       "      <td>B</td>\n",
       "    </tr>\n",
       "    <tr>\n",
       "      <th>1</th>\n",
       "      <td>5723133</td>\n",
       "      <td>A</td>\n",
       "    </tr>\n",
       "    <tr>\n",
       "      <th>2</th>\n",
       "      <td>5723648</td>\n",
       "      <td>B</td>\n",
       "    </tr>\n",
       "    <tr>\n",
       "      <th>3</th>\n",
       "      <td>5728431</td>\n",
       "      <td>B</td>\n",
       "    </tr>\n",
       "    <tr>\n",
       "      <th>4</th>\n",
       "      <td>5729371</td>\n",
       "      <td>A</td>\n",
       "    </tr>\n",
       "    <tr>\n",
       "      <th>5</th>\n",
       "      <td>5730382</td>\n",
       "      <td>B</td>\n",
       "    </tr>\n",
       "    <tr>\n",
       "      <th>6</th>\n",
       "      <td>5739944</td>\n",
       "      <td>B</td>\n",
       "    </tr>\n",
       "    <tr>\n",
       "      <th>7</th>\n",
       "      <td>5740903</td>\n",
       "      <td>B</td>\n",
       "    </tr>\n",
       "    <tr>\n",
       "      <th>8</th>\n",
       "      <td>5760471</td>\n",
       "      <td>B</td>\n",
       "    </tr>\n",
       "    <tr>\n",
       "      <th>9</th>\n",
       "      <td>5777081</td>\n",
       "      <td>B</td>\n",
       "    </tr>\n",
       "    <tr>\n",
       "      <th>10</th>\n",
       "      <td>5870856</td>\n",
       "      <td>A</td>\n",
       "    </tr>\n",
       "    <tr>\n",
       "      <th>11</th>\n",
       "      <td>5945085</td>\n",
       "      <td>B</td>\n",
       "    </tr>\n",
       "    <tr>\n",
       "      <th>12</th>\n",
       "      <td>5951797</td>\n",
       "      <td>B</td>\n",
       "    </tr>\n",
       "  </tbody>\n",
       "</table>\n",
       "</div>"
      ],
      "text/plain": [
       "         id grp\n",
       "0   5700613   B\n",
       "1   5723133   A\n",
       "2   5723648   B\n",
       "3   5728431   B\n",
       "4   5729371   A\n",
       "5   5730382   B\n",
       "6   5739944   B\n",
       "7   5740903   B\n",
       "8   5760471   B\n",
       "9   5777081   B\n",
       "10  5870856   A\n",
       "11  5945085   B\n",
       "12  5951797   B"
      ]
     },
     "execution_count": 85,
     "metadata": {},
     "output_type": "execute_result"
    }
   ],
   "source": [
    "tsk3=group_add.merge(active_studs, how='inner', on='id')\n",
    "tsk3\n",
    "    "
   ]
  },
  {
   "cell_type": "markdown",
   "metadata": {},
   "source": [
    "Видим, что из 92 пользователей только 12 являются активными. Проверим, сколько из них оплачивали вообще.\n"
   ]
  },
  {
   "cell_type": "code",
   "execution_count": 86,
   "metadata": {},
   "outputs": [
    {
     "data": {
      "text/html": [
       "<div>\n",
       "<style scoped>\n",
       "    .dataframe tbody tr th:only-of-type {\n",
       "        vertical-align: middle;\n",
       "    }\n",
       "\n",
       "    .dataframe tbody tr th {\n",
       "        vertical-align: top;\n",
       "    }\n",
       "\n",
       "    .dataframe thead th {\n",
       "        text-align: right;\n",
       "    }\n",
       "</style>\n",
       "<table border=\"1\" class=\"dataframe\">\n",
       "  <thead>\n",
       "    <tr style=\"text-align: right;\">\n",
       "      <th></th>\n",
       "      <th>id</th>\n",
       "      <th>rev</th>\n",
       "    </tr>\n",
       "  </thead>\n",
       "  <tbody>\n",
       "    <tr>\n",
       "      <th>0</th>\n",
       "      <td>1627</td>\n",
       "      <td>990.0</td>\n",
       "    </tr>\n",
       "    <tr>\n",
       "      <th>1</th>\n",
       "      <td>3185</td>\n",
       "      <td>690.0</td>\n",
       "    </tr>\n",
       "    <tr>\n",
       "      <th>2</th>\n",
       "      <td>25973</td>\n",
       "      <td>690.0</td>\n",
       "    </tr>\n",
       "    <tr>\n",
       "      <th>3</th>\n",
       "      <td>26280</td>\n",
       "      <td>690.0</td>\n",
       "    </tr>\n",
       "    <tr>\n",
       "      <th>4</th>\n",
       "      <td>100300</td>\n",
       "      <td>990.0</td>\n",
       "    </tr>\n",
       "    <tr>\n",
       "      <th>...</th>\n",
       "      <td>...</td>\n",
       "      <td>...</td>\n",
       "    </tr>\n",
       "    <tr>\n",
       "      <th>536</th>\n",
       "      <td>5645737</td>\n",
       "      <td>1900.0</td>\n",
       "    </tr>\n",
       "    <tr>\n",
       "      <th>537</th>\n",
       "      <td>5651566</td>\n",
       "      <td>1900.0</td>\n",
       "    </tr>\n",
       "    <tr>\n",
       "      <th>538</th>\n",
       "      <td>5662322</td>\n",
       "      <td>1900.0</td>\n",
       "    </tr>\n",
       "    <tr>\n",
       "      <th>539</th>\n",
       "      <td>5681918</td>\n",
       "      <td>1900.0</td>\n",
       "    </tr>\n",
       "    <tr>\n",
       "      <th>540</th>\n",
       "      <td>5740903</td>\n",
       "      <td>1900.0</td>\n",
       "    </tr>\n",
       "  </tbody>\n",
       "</table>\n",
       "<p>541 rows × 2 columns</p>\n",
       "</div>"
      ],
      "text/plain": [
       "          id     rev\n",
       "0       1627   990.0\n",
       "1       3185   690.0\n",
       "2      25973   690.0\n",
       "3      26280   690.0\n",
       "4     100300   990.0\n",
       "..       ...     ...\n",
       "536  5645737  1900.0\n",
       "537  5651566  1900.0\n",
       "538  5662322  1900.0\n",
       "539  5681918  1900.0\n",
       "540  5740903  1900.0\n",
       "\n",
       "[541 rows x 2 columns]"
      ]
     },
     "execution_count": 86,
     "metadata": {},
     "output_type": "execute_result"
    }
   ],
   "source": [
    "checks"
   ]
  },
  {
   "cell_type": "code",
   "execution_count": 87,
   "metadata": {},
   "outputs": [
    {
     "data": {
      "text/html": [
       "<div>\n",
       "<style scoped>\n",
       "    .dataframe tbody tr th:only-of-type {\n",
       "        vertical-align: middle;\n",
       "    }\n",
       "\n",
       "    .dataframe tbody tr th {\n",
       "        vertical-align: top;\n",
       "    }\n",
       "\n",
       "    .dataframe thead th {\n",
       "        text-align: right;\n",
       "    }\n",
       "</style>\n",
       "<table border=\"1\" class=\"dataframe\">\n",
       "  <thead>\n",
       "    <tr style=\"text-align: right;\">\n",
       "      <th></th>\n",
       "      <th>id</th>\n",
       "      <th>grp</th>\n",
       "      <th>rev</th>\n",
       "    </tr>\n",
       "  </thead>\n",
       "  <tbody>\n",
       "    <tr>\n",
       "      <th>0</th>\n",
       "      <td>5700613</td>\n",
       "      <td>B</td>\n",
       "      <td>NaN</td>\n",
       "    </tr>\n",
       "    <tr>\n",
       "      <th>1</th>\n",
       "      <td>5723133</td>\n",
       "      <td>A</td>\n",
       "      <td>NaN</td>\n",
       "    </tr>\n",
       "    <tr>\n",
       "      <th>2</th>\n",
       "      <td>5723648</td>\n",
       "      <td>B</td>\n",
       "      <td>NaN</td>\n",
       "    </tr>\n",
       "    <tr>\n",
       "      <th>3</th>\n",
       "      <td>5728431</td>\n",
       "      <td>B</td>\n",
       "      <td>NaN</td>\n",
       "    </tr>\n",
       "    <tr>\n",
       "      <th>4</th>\n",
       "      <td>5729371</td>\n",
       "      <td>A</td>\n",
       "      <td>NaN</td>\n",
       "    </tr>\n",
       "    <tr>\n",
       "      <th>5</th>\n",
       "      <td>5730382</td>\n",
       "      <td>B</td>\n",
       "      <td>NaN</td>\n",
       "    </tr>\n",
       "    <tr>\n",
       "      <th>6</th>\n",
       "      <td>5739944</td>\n",
       "      <td>B</td>\n",
       "      <td>NaN</td>\n",
       "    </tr>\n",
       "    <tr>\n",
       "      <th>7</th>\n",
       "      <td>5740903</td>\n",
       "      <td>B</td>\n",
       "      <td>1900.0</td>\n",
       "    </tr>\n",
       "    <tr>\n",
       "      <th>8</th>\n",
       "      <td>5760471</td>\n",
       "      <td>B</td>\n",
       "      <td>NaN</td>\n",
       "    </tr>\n",
       "    <tr>\n",
       "      <th>9</th>\n",
       "      <td>5777081</td>\n",
       "      <td>B</td>\n",
       "      <td>NaN</td>\n",
       "    </tr>\n",
       "    <tr>\n",
       "      <th>10</th>\n",
       "      <td>5870856</td>\n",
       "      <td>A</td>\n",
       "      <td>NaN</td>\n",
       "    </tr>\n",
       "    <tr>\n",
       "      <th>11</th>\n",
       "      <td>5945085</td>\n",
       "      <td>B</td>\n",
       "      <td>NaN</td>\n",
       "    </tr>\n",
       "    <tr>\n",
       "      <th>12</th>\n",
       "      <td>5951797</td>\n",
       "      <td>B</td>\n",
       "      <td>NaN</td>\n",
       "    </tr>\n",
       "  </tbody>\n",
       "</table>\n",
       "</div>"
      ],
      "text/plain": [
       "         id grp     rev\n",
       "0   5700613   B     NaN\n",
       "1   5723133   A     NaN\n",
       "2   5723648   B     NaN\n",
       "3   5728431   B     NaN\n",
       "4   5729371   A     NaN\n",
       "5   5730382   B     NaN\n",
       "6   5739944   B     NaN\n",
       "7   5740903   B  1900.0\n",
       "8   5760471   B     NaN\n",
       "9   5777081   B     NaN\n",
       "10  5870856   A     NaN\n",
       "11  5945085   B     NaN\n",
       "12  5951797   B     NaN"
      ]
     },
     "execution_count": 87,
     "metadata": {},
     "output_type": "execute_result"
    }
   ],
   "source": [
    "tsk3_1=tsk3.merge(checks, how='left', on='id')\n",
    "tsk3_1"
   ]
  },
  {
   "cell_type": "markdown",
   "metadata": {},
   "source": [
    "Как мы видим, только 1 человек внес оплату. Это существенно никак не повлияет на метрики"
   ]
  },
  {
   "cell_type": "code",
   "execution_count": 2,
   "metadata": {},
   "outputs": [],
   "source": [
    "#Подгрузим дополнительные либы для работы с чтением файлов\n",
    "import pandas as pd \n",
    "import requests \n",
    "from urllib.parse import urlencode \n",
    " \n"
   ]
  },
  {
   "cell_type": "code",
   "execution_count": 379,
   "metadata": {},
   "outputs": [],
   "source": [
    "def add_info (metric_name):\n",
    "   #Используем api \n",
    "    base_url = 'https://cloud-api.yandex.net/v1/disk/public/resources/download?' \n",
    "    public_key = 'https://disk.yandex.ru/d/5Kxrz02m3IBUwQ' \n",
    " \n",
    "    #получаем url \n",
    "    final_url = base_url + urlencode(dict(public_key=public_key)) \n",
    "    response = requests.get(final_url) \n",
    "    download_url = response.json()['href'] \n",
    " \n",
    "    #Загружаем файл в df \n",
    "    download_response = requests.get(download_url) \n",
    "    group_add_tsk_3 = pd.read_csv(download_url, sep=',')\n",
    "    #Объединяем с нашим основным файлом group\n",
    "    all_data_gr=groups.merge(group_add, how='outer',on=['id','grp'])\n",
    "    #Отделяем активных и оплативших юзеров. Ранее в задании мы переименовывали названия для удобства мерджа в задании 1\n",
    "    all_active_usrs=active_studs.merge(all_data_gr, how='left', on='id')\n",
    "    paid_usrs=all_active_usrs.merge(checks,how='left', on='id')\n",
    "    paid_usrs['rev']=paid_usrs['rev'].fillna(0) \n",
    "    paid_usrs_2=paid_usrs.query(\"rev >0\")\n",
    "    #Разделим пользователей на группы\n",
    "    #Считаем метрики\n",
    "    #Средний чек\n",
    "    AOV = paid_usrs_2.groupby('grp', as_index=False)\\\n",
    "        .agg({'rev': 'mean'})\\\n",
    "        .rename(columns={'rev': 'AOV'})\\\n",
    "        .round(3)\\\n",
    "        .rename(columns={'grp':'group_AOV'})\n",
    "    #Соотношение оплативших пользователей ко всем\n",
    "    paid_usrs['is_payed']=paid_usrs['rev'].apply(lambda x: 1 if x>0 else 0)\n",
    "    cross_tbl=pd.crosstab(active_grouped_users2.grp, active_grouped_users2.is_payed)\n",
    "    df_cr=pd.DataFrame(data=cross_tbl, index=['A', 'B'],columns=[0,1] )\n",
    "    df_cr['Total']=df_cr[0]+df_cr[1]\n",
    "    df_cr['CR']=round(df_cr[1]/df_cr['Total'],2)\n",
    "    CR=pd.DataFrame(df_cr['CR'],index=['A','B'])\n",
    "    CR=CR.reset_index().rename(columns={'index':'group_CR'})\n",
    "    #Медиана\n",
    "    Median = paid_usrs_2.groupby('grp', as_index=False)\\\n",
    "        .agg({'rev': 'median'})\\\n",
    "        .rename(columns={'rev': 'Median'})\\\n",
    "        .round(3)\\\n",
    "        .rename(columns={'grp':'group_Median'})\n",
    "    if metric_name=='AOV': #если передана метрика среднего чека\n",
    "        res=AOV\n",
    "        return res\n",
    "    elif metric_name == 'CR': #если передана метрика соотношения\n",
    "        res=CR\n",
    "        return res\n",
    "    elif metric_name =='Median': #если передана метрика Медиана\n",
    "        return Median\n",
    "    else: #во всех других случая выводим все\n",
    "        z = pd.concat([AOV, CR, Median], axis=1,sort=False)\n",
    "        res=pd.DataFrame(data=z[['group_AOV','AOV','CR','Median']]).rename(columns={'group_AOV':'group'})\n",
    "        return res   "
   ]
  },
  {
   "cell_type": "code",
   "execution_count": 386,
   "metadata": {},
   "outputs": [
    {
     "data": {
      "text/html": [
       "<div>\n",
       "<style scoped>\n",
       "    .dataframe tbody tr th:only-of-type {\n",
       "        vertical-align: middle;\n",
       "    }\n",
       "\n",
       "    .dataframe tbody tr th {\n",
       "        vertical-align: top;\n",
       "    }\n",
       "\n",
       "    .dataframe thead th {\n",
       "        text-align: right;\n",
       "    }\n",
       "</style>\n",
       "<table border=\"1\" class=\"dataframe\">\n",
       "  <thead>\n",
       "    <tr style=\"text-align: right;\">\n",
       "      <th></th>\n",
       "      <th>group</th>\n",
       "      <th>AOV</th>\n",
       "      <th>CR</th>\n",
       "      <th>Median</th>\n",
       "    </tr>\n",
       "  </thead>\n",
       "  <tbody>\n",
       "    <tr>\n",
       "      <th>0</th>\n",
       "      <td>A</td>\n",
       "      <td>933.590</td>\n",
       "      <td>0.05</td>\n",
       "      <td>585.0</td>\n",
       "    </tr>\n",
       "    <tr>\n",
       "      <th>1</th>\n",
       "      <td>B</td>\n",
       "      <td>1257.879</td>\n",
       "      <td>0.05</td>\n",
       "      <td>1140.0</td>\n",
       "    </tr>\n",
       "  </tbody>\n",
       "</table>\n",
       "</div>"
      ],
      "text/plain": [
       "  group       AOV    CR  Median\n",
       "0     A   933.590  0.05   585.0\n",
       "1     B  1257.879  0.05  1140.0"
      ]
     },
     "execution_count": 386,
     "metadata": {},
     "output_type": "execute_result"
    }
   ],
   "source": [
    "df_tsk_3_1=add_info(metric_name='')\n",
    "df_tsk_3_1\n",
    "#Как мы видим, вызвав кейс по всем метрикам, они сильно не изменились по нашим предположениям,\n",
    "#если мы считаем их по активным И оплатившим пользователям"
   ]
  },
  {
   "cell_type": "markdown",
   "metadata": {},
   "source": [
    "## Функция графиков метрик"
   ]
  },
  {
   "cell_type": "code",
   "execution_count": 387,
   "metadata": {},
   "outputs": [],
   "source": [
    "def graphics (*args):\n",
    "    if df_tsk_3_1.shape[1] >2:\n",
    "        #Определяем расположение наших графиков. Все в 1 строки, поделенной на 3 столбца\n",
    "        figure, ax = plt.subplots(1, 3, figsize=(12,5))\n",
    "        #Добавляем наименование  графика общего\n",
    "        figure.suptitle('Metrics', fontsize=19, fontweight='bold')\n",
    "        #Определяем цвет наших барплотов\n",
    "        color = ['red','blue']\n",
    "        #Рисуем графики       \n",
    "        graphic_AOV = sns.barplot(data=df_tsk_3_1, x='group', y='AOV', ax=ax[0], palette=color)\n",
    "        graphic_Median = sns.barplot(data=df_tsk_3_1, x='group', y='Median', ax=ax[1], palette=color)\n",
    "        graphic_CR = sns.barplot(data=df_tsk_3_1, x='group', y='CR', ax=ax[2], palette=color)\n",
    "    else:\n",
    "        #Определяем расположение наших графиков. Все в 1 строки, поделенной на 3 столбца\n",
    "        figure, ax = plt.subplots(1, 1, figsize=(12,5))\n",
    "        #Добавляем наименование  графика общего\n",
    "        figure.suptitle('Metrics', fontsize=19, fontweight='bold')\n",
    "        #Определяем цвет наших барплотов\n",
    "        color = ['red','blue']\n",
    "        graphic= sns.barplot(data=df_tsk_3_1, x=df_tsk_3_1.columns[0],y=df_tsk_3_1.columns[1], palette=color)"
   ]
  },
  {
   "cell_type": "code",
   "execution_count": 388,
   "metadata": {},
   "outputs": [
    {
     "data": {
      "image/png": "[encoded data removed]",
      "text/plain": [
       "<Figure size 864x360 with 3 Axes>"
      ]
     },
     "metadata": {},
     "output_type": "display_data"
    }
   ],
   "source": [
    "graphics()\n"
   ]
  },
  {
   "cell_type": "markdown",
   "metadata": {},
   "source": [
    "# Задача 2"
   ]
  },
  {
   "cell_type": "markdown",
   "metadata": {},
   "source": [
    "## задача 2.1\n",
    "Необходимо написать оптимальный запрос, который даст информацию о количестве очень усердных студентов.NB! Под усердным студентом мы понимаем студента, который правильно решил 20 задач за текущий месяц."
   ]
  },
  {
   "cell_type": "code",
   "execution_count": 3,
   "metadata": {},
   "outputs": [],
   "source": [
    "#Импортируем необходимые библиотеки для работы с clickhouse в jupiternotebooke\n",
    "import pandahouse as ph"
   ]
  },
  {
   "cell_type": "code",
   "execution_count": 4,
   "metadata": {},
   "outputs": [],
   "source": [
    "#Пропишем необходимы данные для соединения с clickhouse, которые мы использовали ранее в заданиях блока sql\n",
    "connection_default = {'host': 'https://clickhouse.lab.karpov.courses',\n",
    "                      'database':'default',\n",
    "                      'user':'student', \n",
    "                      'password':'dpo_python_2020'\n",
    "                     }\n"
   ]
  },
  {
   "cell_type": "code",
   "execution_count": 8,
   "metadata": {},
   "outputs": [
    {
     "data": {
      "text/html": [
       "<div>\n",
       "<style scoped>\n",
       "    .dataframe tbody tr th:only-of-type {\n",
       "        vertical-align: middle;\n",
       "    }\n",
       "\n",
       "    .dataframe tbody tr th {\n",
       "        vertical-align: top;\n",
       "    }\n",
       "\n",
       "    .dataframe thead th {\n",
       "        text-align: right;\n",
       "    }\n",
       "</style>\n",
       "<table border=\"1\" class=\"dataframe\">\n",
       "  <thead>\n",
       "    <tr style=\"text-align: right;\">\n",
       "      <th></th>\n",
       "      <th>hard_working_students_amount</th>\n",
       "    </tr>\n",
       "  </thead>\n",
       "  <tbody>\n",
       "    <tr>\n",
       "      <th>0</th>\n",
       "      <td>136</td>\n",
       "    </tr>\n",
       "  </tbody>\n",
       "</table>\n",
       "</div>"
      ],
      "text/plain": [
       "   hard_working_students_amount\n",
       "0                           136"
      ]
     },
     "execution_count": 8,
     "metadata": {},
     "output_type": "execute_result"
    }
   ],
   "source": [
    "#В нашем подзапросе считаем по каждому месяцу количество баллов у студентов и в основном запросе отбираем  тех,\n",
    "#у кого от 20 и больше баллов за n-ый месяц m-го года\n",
    "query = \"\"\"\n",
    "select count (st_id) as hard_working_students_amount from (\n",
    "select st_id, formatDateTime(timest, '%G-%m') as month_year, count(correct) as total_score\n",
    "from peas\n",
    "where correct == 1\n",
    "group by st_id, formatDateTime(timest, '%G-%m') as month_year\n",
    "having sum(correct) >  19\n",
    "order by total_score desc ) std_success\n",
    "\"\"\"\n",
    "df = ph.read_clickhouse(query, connection=connection_default)\n",
    "df"
   ]
  },
  {
   "cell_type": "markdown",
   "metadata": {},
   "source": [
    "Отмечу, что при добавлении условие в where *and month_year like '2024-11'* выведет кол-во, равное  0"
   ]
  },
  {
   "cell_type": "markdown",
   "metadata": {},
   "source": [
    "## задача 2.2\n",
    "Необходимо в одном запросе выгрузить следующую информацию о группах пользователей:\n",
    "\n",
    "- ARPU \n",
    "- ARPAU \n",
    "- CR в покупку \n",
    "- СR активного пользователя в покупку \n",
    "- CR пользователя из активности по математике (subject = ’math’) в покупку курса по математике\n",
    "- ARPU считается относительно всех пользователей, попавших в группы.\n",
    "\n",
    "Активным считается пользователь, за все время решивший больше 10 задач правильно в любых дисциплинах.\n",
    "\n",
    "Активным по математике считается пользователь, за все время решивший 2 или больше задач правильно по математике."
   ]
  },
  {
   "cell_type": "markdown",
   "metadata": {},
   "source": [
    "## У меня два варианта решения. Задание было самым сложным. Первый вариант - через cte делал. Но он громоздкий. \n",
    "## Второй-  покороче через специальные функции кликхауза, что нагуглил + cte\n",
    "## Оба варианта совпали по ответам"
   ]
  },
  {
   "cell_type": "markdown",
   "metadata": {},
   "source": [
    "**ВАРИАНТ1**"
   ]
  },
  {
   "cell_type": "code",
   "execution_count": 46,
   "metadata": {},
   "outputs": [
    {
     "data": {
      "text/html": [
       "<div>\n",
       "<style scoped>\n",
       "    .dataframe tbody tr th:only-of-type {\n",
       "        vertical-align: middle;\n",
       "    }\n",
       "\n",
       "    .dataframe tbody tr th {\n",
       "        vertical-align: top;\n",
       "    }\n",
       "\n",
       "    .dataframe thead th {\n",
       "        text-align: right;\n",
       "    }\n",
       "</style>\n",
       "<table border=\"1\" class=\"dataframe\">\n",
       "  <thead>\n",
       "    <tr style=\"text-align: right;\">\n",
       "      <th></th>\n",
       "      <th>ARPU.test_grp</th>\n",
       "      <th>ARPU</th>\n",
       "      <th>ARPAU</th>\n",
       "      <th>CR_in_purch</th>\n",
       "      <th>CR_active</th>\n",
       "      <th>CR_math</th>\n",
       "    </tr>\n",
       "  </thead>\n",
       "  <tbody>\n",
       "    <tr>\n",
       "      <th>0</th>\n",
       "      <td>control</td>\n",
       "      <td>4540.98</td>\n",
       "      <td>10393.70</td>\n",
       "      <td>0.05</td>\n",
       "      <td>0.11</td>\n",
       "      <td>0.06</td>\n",
       "    </tr>\n",
       "    <tr>\n",
       "      <th>1</th>\n",
       "      <td>pilot</td>\n",
       "      <td>11508.47</td>\n",
       "      <td>29739.58</td>\n",
       "      <td>0.11</td>\n",
       "      <td>0.26</td>\n",
       "      <td>0.10</td>\n",
       "    </tr>\n",
       "  </tbody>\n",
       "</table>\n",
       "</div>"
      ],
      "text/plain": [
       "  ARPU.test_grp      ARPU     ARPAU  CR_in_purch  CR_active  CR_math\n",
       "0       control   4540.98  10393.70         0.05       0.11     0.06\n",
       "1         pilot  11508.47  29739.58         0.11       0.26     0.10"
      ]
     },
     "execution_count": 46,
     "metadata": {},
     "output_type": "execute_result"
    }
   ],
   "source": [
    "query2 = \"\"\"\n",
    "--\n",
    "with grp_rev as (select test_grp, sum(fpc.money) as revenue\n",
    "from default.final_project_check as fpc left join default.studs s on fpc.st_id=s.st_id\n",
    "group by test_grp),\n",
    "\n",
    "--\n",
    "users_point_sum_inf as (select s.st_id as st_id,s.test_grp as test_grp , sum(p.correct) as total_points, sum(fpc.money) as revenue \n",
    "from \n",
    "default.studs as s left join default.peas as p on p.st_id=s.st_id\n",
    "left join default.final_project_check as fpc on s.st_id=fpc.st_id\n",
    "group by s.st_id,s.test_grp),\n",
    "--\n",
    "unique_users as (select test_grp, count (st_id) as users_amnt from users_point_sum_inf group by test_grp),\n",
    "--\n",
    "active_users as (select s.st_id as st_id, test_grp, sum(correct) as total_points  \n",
    "from default.studs s left join default.peas p on s.st_id=p.st_id\n",
    "group by s.st_id,test_grp having total_points>10),\n",
    "--\n",
    "active_users_mnt as (select test_grp, count(st_id) as users_amnt from active_users group by test_grp),\n",
    "--\n",
    "grp_rev_act as (select st_id, test_grp, sum(money) as revenue\n",
    "from active_users a left join default.final_project_check as fpc on a.st_id= fpc.st_id\n",
    "group by st_id,test_grp),\n",
    "--\n",
    "grp_rev_act_mnt as (select test_grp, sum(revenue) as revenue from grp_rev_act group by test_grp),\n",
    "--\n",
    "ARPU as (select a.test_grp as test_grp, round(revenue/users_amnt,2) as ARPU from grp_rev a inner join unique_users b on a.test_grp=b.test_grp),\n",
    "--\n",
    "ARPAU as (select a.test_grp as test_grp, round(revenue/users_amnt,2) as ARPAU from grp_rev_act_mnt  a inner join active_users_mnt b on a.test_grp=b.test_grp),\n",
    "--\n",
    "unique_paying_users as (select test_grp, count (distinct st_id) as paying_users_amnt from users_point_sum_inf group by test_grp having  revenue>0),\n",
    "--\n",
    "CR as (select a.test_grp as test_grp, round(a.paying_users_amnt/b.users_amnt,2) as CR_in_purch \n",
    "        from unique_paying_users a inner join unique_users b on a.test_grp=b.test_grp),\n",
    "--\n",
    "active_paying_users_mnt as (select test_grp, count(distinct st_id) as paying_users_amnt from grp_rev_act where revenue >0 group by test_grp),\n",
    "--\n",
    "CR_active as (select a.test_grp as test_grp , round(a.paying_users_amnt/b.users_amnt,2) as CR_active \n",
    "from active_paying_users_mnt a inner join active_users_mnt b on a.test_grp=b.test_grp),\n",
    "--\n",
    "math_students_info as (select s.st_id as st_id, test_grp, sum(correct) as correct \n",
    "from default.studs s left join default.peas p on s.st_id=p.st_id\n",
    "where p.subject ilike 'math'\n",
    "group by s.st_id,test_grp),\n",
    "--\n",
    "math_amnt as (select test_grp, count(distinct st_id) as users_amnt from math_students_info where correct >= 2 group by test_grp),\n",
    "--\n",
    "math_paying_info as (select m.st_id as st_id, test_grp, sum(money) as revenue \n",
    "from math_students_info m left join default.final_project_check fpc on m.st_id=fpc.st_id\n",
    "where correct >=2  and subject ilike 'math'\n",
    "group by m.st_id,test_grp\n",
    "having revenue>0),\n",
    "--\n",
    "math_paying_mnt as (select test_grp, count(distinct st_id) as paying_users_amnt from math_paying_info group by test_grp),\n",
    "--\n",
    "CR_math as ( select msi.test_grp as test_grp, round(mpi.paying_users_amnt/msi.users_amnt,2) as CR_math \n",
    "from math_amnt msi inner join  math_paying_mnt mpi on msi.test_grp=mpi.test_grp)\n",
    "\n",
    "\n",
    "select ARPU.test_grp, ARPU, ARPAU, CR_in_purch, CR_active,CR_math\n",
    "from ARPU inner join ARPAU on ARPU.test_grp=ARPAU.test_grp\n",
    "inner join CR on ARPU.test_grp=CR.test_grp\n",
    "inner join CR_active on ARPU.test_grp=CR_active.test_grp\n",
    "inner join CR_math on ARPU.test_grp=CR_math.test_grp\n",
    "\"\"\"\n",
    "df_2_1 = ph.read_clickhouse(query2, connection=connection_default)\n",
    "df_2_1"
   ]
  },
  {
   "cell_type": "markdown",
   "metadata": {},
   "source": [
    "**ВАРИАНТ 2**"
   ]
  },
  {
   "cell_type": "code",
   "execution_count": 47,
   "metadata": {},
   "outputs": [
    {
     "data": {
      "text/html": [
       "<div>\n",
       "<style scoped>\n",
       "    .dataframe tbody tr th:only-of-type {\n",
       "        vertical-align: middle;\n",
       "    }\n",
       "\n",
       "    .dataframe tbody tr th {\n",
       "        vertical-align: top;\n",
       "    }\n",
       "\n",
       "    .dataframe thead th {\n",
       "        text-align: right;\n",
       "    }\n",
       "</style>\n",
       "<table border=\"1\" class=\"dataframe\">\n",
       "  <thead>\n",
       "    <tr style=\"text-align: right;\">\n",
       "      <th></th>\n",
       "      <th>test_grp</th>\n",
       "      <th>ARPU</th>\n",
       "      <th>ARPAU</th>\n",
       "      <th>CR_in_purch</th>\n",
       "      <th>CR_active</th>\n",
       "      <th>CR_math</th>\n",
       "    </tr>\n",
       "  </thead>\n",
       "  <tbody>\n",
       "    <tr>\n",
       "      <th>0</th>\n",
       "      <td>control</td>\n",
       "      <td>4540.98</td>\n",
       "      <td>10393.70</td>\n",
       "      <td>0.05</td>\n",
       "      <td>0.11</td>\n",
       "      <td>0.06</td>\n",
       "    </tr>\n",
       "    <tr>\n",
       "      <th>1</th>\n",
       "      <td>pilot</td>\n",
       "      <td>11508.47</td>\n",
       "      <td>29739.58</td>\n",
       "      <td>0.11</td>\n",
       "      <td>0.26</td>\n",
       "      <td>0.10</td>\n",
       "    </tr>\n",
       "  </tbody>\n",
       "</table>\n",
       "</div>"
      ],
      "text/plain": [
       "  test_grp      ARPU     ARPAU  CR_in_purch  CR_active  CR_math\n",
       "0  control   4540.98  10393.70         0.05       0.11     0.06\n",
       "1    pilot  11508.47  29739.58         0.11       0.26     0.10"
      ]
     },
     "execution_count": 47,
     "metadata": {},
     "output_type": "execute_result"
    }
   ],
   "source": [
    "query2_2=\"\"\"\n",
    "with all_scores_info as (\n",
    "select st_id, sum(correct) as correct_all\n",
    "from default.peas\n",
    "group by st_id\n",
    "having correct_all>0\n",
    "order by correct_all),\n",
    "\n",
    "math_score as (select st_id, sum(correct) as math_score\n",
    "from default.peas\n",
    "where subject ilike 'math'\n",
    "group by st_id\n",
    "--having math_score>=2\n",
    "order by math_score),\n",
    "\n",
    "total_info as (select s.st_id as st_id, fpc.money as revenue, test_grp,correct_all,math_score, subject\n",
    "from default.studs s \n",
    "left join default.final_project_check as fpc on s.st_id=fpc.st_id\n",
    "left join all_scores_info asi on s.st_id=asi.st_id\n",
    "left join math_score ms  on s.st_id=ms.st_id)\n",
    "\n",
    "select test_grp, \n",
    "round(sum(revenue)/count(distinct st_id),2) as ARPU,\n",
    "round(sumIf(revenue,correct_all> 10)/countIf(distinct st_id, correct_all> 10),2) as ARPAU,\n",
    "round(countIF(distinct st_id, revenue>0)/count(distinct st_id),2) as CR_in_purch,\n",
    "round(countIf(distinct st_id, revenue>0  and correct_all> 10)/countIf(distinct st_id, correct_all> 10),2) as CR_active,\n",
    "round(countIf(distinct st_id, revenue>0  and math_score>=2 and subject ilike 'math')/countIf(distinct st_id, math_score>=2),2) as CR_math\n",
    "from total_info \n",
    "group by test_grp\n",
    "\n",
    "\"\"\"\n",
    "df_2_2 = ph.read_clickhouse(query2_2, connection=connection_default)\n",
    "df_2_2"
   ]
  },
  {
   "cell_type": "code",
   "execution_count": null,
   "metadata": {},
   "outputs": [],
   "source": []
  }
 ],
 "metadata": {
  "kernelspec": {
   "display_name": "Python 3",
   "language": "python",
   "name": "python3"
  },
  "language_info": {
   "codemirror_mode": {
    "name": "ipython",
    "version": 3
   },
   "file_extension": ".py",
   "mimetype": "text/x-python",
   "name": "python",
   "nbconvert_exporter": "python",
   "pygments_lexer": "ipython3",
   "version": "3.7.3"
  }
 },
 "nbformat": 4,
 "nbformat_minor": 4
}
